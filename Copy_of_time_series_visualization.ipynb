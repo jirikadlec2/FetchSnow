{
  "nbformat": 4,
  "nbformat_minor": 0,
  "metadata": {
    "colab": {
      "name": "Copy of time-series-visualization.ipynb",
      "provenance": [],
      "collapsed_sections": [],
      "toc_visible": true,
      "include_colab_link": true
    },
    "kernelspec": {
      "name": "python3",
      "display_name": "Python 3"
    }
  },
  "cells": [
    {
      "cell_type": "markdown",
      "metadata": {
        "id": "view-in-github",
        "colab_type": "text"
      },
      "source": [
        "<a href=\"https://colab.research.google.com/github/jirikadlec2/FetchSnow/blob/master/Copy_of_time_series_visualization.ipynb\" target=\"_parent\"><img src=\"https://colab.research.google.com/assets/colab-badge.svg\" alt=\"Open In Colab\"/></a>"
      ]
    },
    {
      "cell_type": "markdown",
      "metadata": {
        "id": "oVlngxk5hfut",
        "colab_type": "text"
      },
      "source": [
        "# Time Series Visualization\n",
        "\n",
        "_Exploring drought and vegetation response with Google Earth Engine and Altair in Google Colab_\n",
        "\n",
        "Justin Braaten<br>\n",
        "Geo for Good Summit, 2019\n",
        "\n",
        "## bit.ly/ts-vis\n",
        "\n",
        "<br><br><br><br><br><br>\n",
        "\n",
        "---\n",
        "\n"
      ]
    },
    {
      "cell_type": "markdown",
      "metadata": {
        "id": "0ki9p-ov8RnZ",
        "colab_type": "text"
      },
      "source": [
        "# Introduction\n",
        "\n",
        "### What this _is not_:\n",
        "\n",
        "- an introduction to Earth Engine.\n",
        "- an introduction to Pandas.\n",
        "- an introduction to Altair.\n",
        "- an introduction to Colab.\n",
        "\n",
        "### What this _is_:\n",
        "\n",
        "This is an applied example of a **workflow** that combines the strengths of four technologies **to interactively explore environmental time series data** and to prototype more extensive analyses.\n",
        "\n",
        "<br><br><br><br><br><br>\n",
        "\n",
        "---\n",
        "\n",
        "\n",
        "\n",
        "\n",
        "\n",
        "\n"
      ]
    },
    {
      "cell_type": "markdown",
      "metadata": {
        "id": "AEhLFyIlF-yN",
        "colab_type": "text"
      },
      "source": [
        "## Turning data into insights\n",
        "\n",
        "...and ultimately into a narrative\n",
        "<br><br><br>\n",
        "\n",
        "<img src='https://raw.githubusercontent.com/jdbcode/G4G19/master/img/data-to-insight.png' width='700px' alt='data-to-insight.png'>\n",
        "\n",
        "<br><br><br><br><br><br>\n",
        "\n",
        "---"
      ]
    },
    {
      "cell_type": "markdown",
      "metadata": {
        "id": "Dsza2vbpcePW",
        "colab_type": "text"
      },
      "source": [
        "## Data reduction\n",
        "\n",
        "<img src='https://raw.githubusercontent.com/jdbcode/G4G19/master/img/data-reduction.png' width='700px' alt='data-to-insight.png'>\n",
        "\n",
        "- [**Earth Engine**](https://earthengine.google.com/) - geospatial data access and processing\n",
        "- [**Pandas**](https://pandas.pydata.org/) - dataframe structure\n",
        "- [**Altair**](https://altair-viz.github.io/) - data visualization\n",
        "- [**Colab**](https://colab.research.google.com) - integrative Python environment \n",
        "\n",
        "<br><br><br><br><br><br>\n",
        "\n",
        "---"
      ]
    },
    {
      "cell_type": "markdown",
      "metadata": {
        "id": "EH-D93LwqoIT",
        "colab_type": "text"
      },
      "source": [
        "# Drought and vegetation response\n",
        "\n",
        "## Sierra Nevada ecoregion\n",
        "![aoi](https://raw.githubusercontent.com/jdbcode/G4G19/master/img/aoi.jpg)<br>\n",
        "_Source: Google | Earth Engine_\n",
        "\n",
        "\n",
        "![aoi](https://raw.githubusercontent.com/jdbcode/G4G19/master/img/sn-forest.jpg)<br>\n",
        "_Source: Flickr | Matt McGrath_\n",
        "\n"
      ]
    },
    {
      "cell_type": "markdown",
      "metadata": {
        "id": "Kywyotddzkmw",
        "colab_type": "text"
      },
      "source": [
        "<br><br><br><br><br><br>\n",
        "\n",
        "---"
      ]
    },
    {
      "cell_type": "markdown",
      "metadata": {
        "id": "1gO4Fh9yzhnc",
        "colab_type": "text"
      },
      "source": [
        "## Datasets\n",
        "\n",
        "- Drought severity ([PDSI](https://developers.google.com/earth-engine/datasets/catalog/NASA_NEX-DCP30))\n",
        "- Vegetation response ([MODIS](https://developers.google.com/earth-engine/datasets/catalog/modis) NDVI)\n",
        "- Vegetation response ([Landsat](https://developers.google.com/earth-engine/datasets/catalog/landsat/) NBR)\n",
        "- Historical climate ([PRISM](https://developers.google.com/earth-engine/datasets/catalog/OREGONSTATE_PRISM_AN81m))\n",
        "- Projected Climate ([NEX-DCP30](https://developers.google.com/earth-engine/datasets/catalog/NASA_NEX-DCP30))\n",
        "\n",
        "<br><br><br><br><br><br>\n",
        "\n",
        "---"
      ]
    },
    {
      "cell_type": "markdown",
      "metadata": {
        "id": "YLDFvqCczdVc",
        "colab_type": "text"
      },
      "source": [
        "## General workflow\n",
        "\n",
        "1. Filter the dataset\n",
        "2. Reduce region by a statistic\n",
        "3. Convert data format from list to dataframe\n",
        "4. Alter the dataframe\n",
        "5. Plot the dataframe\n",
        "\n",
        "<br><br><br><br><br><br>\n",
        "\n",
        "---"
      ]
    },
    {
      "cell_type": "markdown",
      "metadata": {
        "id": "_9YDwlnVQU5w",
        "colab_type": "text"
      },
      "source": [
        "## Python setup"
      ]
    },
    {
      "cell_type": "markdown",
      "metadata": {
        "id": "xCezQcI-Qd3o",
        "colab_type": "text"
      },
      "source": [
        "### Install the Earth Engine API\n",
        "\n",
        "1. Use `pip` to install the latest version of the Earth Engine API.\n",
        "2. Import the Earth Engine library.\n",
        "3. Authenticate access (registration verification and Google account access).\n",
        "4. Initialize the API."
      ]
    },
    {
      "cell_type": "code",
      "metadata": {
        "id": "DUBNDgqyiPZW",
        "colab_type": "code",
        "outputId": "cc31bf26-a795-4417-9c5b-324821507e29",
        "colab": {
          "base_uri": "https://localhost:8080/",
          "height": 661
        }
      },
      "source": [
        "!pip install earthengine-api\n",
        "import ee\n",
        "\n",
        "ee.Authenticate()\n",
        "ee.Initialize()"
      ],
      "execution_count": 2,
      "outputs": [
        {
          "output_type": "stream",
          "text": [
            "Requirement already satisfied: earthengine-api in /usr/local/lib/python3.6/dist-packages (0.1.216)\n",
            "Requirement already satisfied: google-api-python-client in /usr/local/lib/python3.6/dist-packages (from earthengine-api) (1.7.12)\n",
            "Requirement already satisfied: httplib2<1dev,>=0.9.2 in /usr/local/lib/python3.6/dist-packages (from earthengine-api) (0.17.0)\n",
            "Requirement already satisfied: google-auth>=1.4.1 in /usr/local/lib/python3.6/dist-packages (from earthengine-api) (1.7.2)\n",
            "Requirement already satisfied: future in /usr/local/lib/python3.6/dist-packages (from earthengine-api) (0.16.0)\n",
            "Requirement already satisfied: httplib2shim in /usr/local/lib/python3.6/dist-packages (from earthengine-api) (0.0.3)\n",
            "Requirement already satisfied: six in /usr/local/lib/python3.6/dist-packages (from earthengine-api) (1.12.0)\n",
            "Requirement already satisfied: google-auth-httplib2>=0.0.3 in /usr/local/lib/python3.6/dist-packages (from earthengine-api) (0.0.3)\n",
            "Requirement already satisfied: google-cloud-storage in /usr/local/lib/python3.6/dist-packages (from earthengine-api) (1.18.1)\n",
            "Requirement already satisfied: uritemplate<4dev,>=3.0.0 in /usr/local/lib/python3.6/dist-packages (from google-api-python-client->earthengine-api) (3.0.1)\n",
            "Requirement already satisfied: setuptools>=40.3.0 in /usr/local/lib/python3.6/dist-packages (from google-auth>=1.4.1->earthengine-api) (46.0.0)\n",
            "Requirement already satisfied: cachetools<3.2,>=2.0.0 in /usr/local/lib/python3.6/dist-packages (from google-auth>=1.4.1->earthengine-api) (3.1.1)\n",
            "Requirement already satisfied: pyasn1-modules>=0.2.1 in /usr/local/lib/python3.6/dist-packages (from google-auth>=1.4.1->earthengine-api) (0.2.8)\n",
            "Requirement already satisfied: rsa<4.1,>=3.1.4 in /usr/local/lib/python3.6/dist-packages (from google-auth>=1.4.1->earthengine-api) (4.0)\n",
            "Requirement already satisfied: urllib3 in /usr/local/lib/python3.6/dist-packages (from httplib2shim->earthengine-api) (1.24.3)\n",
            "Requirement already satisfied: certifi in /usr/local/lib/python3.6/dist-packages (from httplib2shim->earthengine-api) (2019.11.28)\n",
            "Requirement already satisfied: google-resumable-media<0.5.0dev,>=0.3.1 in /usr/local/lib/python3.6/dist-packages (from google-cloud-storage->earthengine-api) (0.4.1)\n",
            "Requirement already satisfied: google-cloud-core<2.0dev,>=1.0.0 in /usr/local/lib/python3.6/dist-packages (from google-cloud-storage->earthengine-api) (1.0.3)\n",
            "Requirement already satisfied: pyasn1<0.5.0,>=0.4.6 in /usr/local/lib/python3.6/dist-packages (from pyasn1-modules>=0.2.1->google-auth>=1.4.1->earthengine-api) (0.4.8)\n",
            "Requirement already satisfied: google-api-core<2.0.0dev,>=1.14.0 in /usr/local/lib/python3.6/dist-packages (from google-cloud-core<2.0dev,>=1.0.0->google-cloud-storage->earthengine-api) (1.16.0)\n",
            "Requirement already satisfied: protobuf>=3.4.0 in /usr/local/lib/python3.6/dist-packages (from google-api-core<2.0.0dev,>=1.14.0->google-cloud-core<2.0dev,>=1.0.0->google-cloud-storage->earthengine-api) (3.10.0)\n",
            "Requirement already satisfied: requests<3.0.0dev,>=2.18.0 in /usr/local/lib/python3.6/dist-packages (from google-api-core<2.0.0dev,>=1.14.0->google-cloud-core<2.0dev,>=1.0.0->google-cloud-storage->earthengine-api) (2.21.0)\n",
            "Requirement already satisfied: pytz in /usr/local/lib/python3.6/dist-packages (from google-api-core<2.0.0dev,>=1.14.0->google-cloud-core<2.0dev,>=1.0.0->google-cloud-storage->earthengine-api) (2018.9)\n",
            "Requirement already satisfied: googleapis-common-protos<2.0dev,>=1.6.0 in /usr/local/lib/python3.6/dist-packages (from google-api-core<2.0.0dev,>=1.14.0->google-cloud-core<2.0dev,>=1.0.0->google-cloud-storage->earthengine-api) (1.51.0)\n",
            "Requirement already satisfied: chardet<3.1.0,>=3.0.2 in /usr/local/lib/python3.6/dist-packages (from requests<3.0.0dev,>=2.18.0->google-api-core<2.0.0dev,>=1.14.0->google-cloud-core<2.0dev,>=1.0.0->google-cloud-storage->earthengine-api) (3.0.4)\n",
            "Requirement already satisfied: idna<2.9,>=2.5 in /usr/local/lib/python3.6/dist-packages (from requests<3.0.0dev,>=2.18.0->google-api-core<2.0.0dev,>=1.14.0->google-cloud-core<2.0dev,>=1.0.0->google-cloud-storage->earthengine-api) (2.8)\n",
            "To authorize access needed by Earth Engine, open the following URL in a web browser and follow the instructions. If the web browser does not start automatically, please manually browse the URL below.\n",
            "\n",
            "    https://accounts.google.com/o/oauth2/auth?client_id=517222506229-vsmmajv00ul0bs7p89v5m89qs8eb9359.apps.googleusercontent.com&scope=https%3A%2F%2Fwww.googleapis.com%2Fauth%2Fearthengine+https%3A%2F%2Fwww.googleapis.com%2Fauth%2Fdevstorage.full_control&redirect_uri=urn%3Aietf%3Awg%3Aoauth%3A2.0%3Aoob&response_type=code&code_challenge=dnH0jU-6Xx4Mxi9C63uo0o5SGkVkfK3k58ef35CPDzU&code_challenge_method=S256\n",
            "\n",
            "The authorization workflow will generate a code, which you should paste in the box below. \n",
            "Enter verification code: 4/xwE8gHhwvN2QyWPSxqjuRDiOFW3xnPj0cPZXKssK3US8CVKOihLXmhM\n",
            "\n",
            "Successfully saved authorization token.\n"
          ],
          "name": "stdout"
        }
      ]
    },
    {
      "cell_type": "markdown",
      "metadata": {
        "id": "i6rS3zTFht5P",
        "colab_type": "text"
      },
      "source": [
        "### Import other libraries\n",
        "\n"
      ]
    },
    {
      "cell_type": "code",
      "metadata": {
        "id": "wo_AiuPLh0kr",
        "colab_type": "code",
        "colab": {
          "base_uri": "https://localhost:8080/",
          "height": 1000
        },
        "outputId": "1a67719a-2e25-4aac-b4de-73ee72fabe93"
      },
      "source": [
        "import numpy as np\n",
        "import pandas as pd\n",
        "import altair as alt\n",
        "\n",
        "!pip install geopandas\n",
        "import geopandas\n",
        "\n",
        "!pip install eeconvert\n",
        "import eeconvert"
      ],
      "execution_count": 15,
      "outputs": [
        {
          "output_type": "stream",
          "text": [
            "Requirement already satisfied: geopandas in /usr/local/lib/python3.6/dist-packages (0.7.0)\n",
            "Requirement already satisfied: shapely in /usr/local/lib/python3.6/dist-packages (from geopandas) (1.7.0)\n",
            "Requirement already satisfied: fiona in /usr/local/lib/python3.6/dist-packages (from geopandas) (1.8.13.post1)\n",
            "Requirement already satisfied: pyproj>=2.2.0 in /usr/local/lib/python3.6/dist-packages (from geopandas) (2.6.0)\n",
            "Requirement already satisfied: pandas>=0.23.0 in /usr/local/lib/python3.6/dist-packages (from geopandas) (0.25.3)\n",
            "Requirement already satisfied: munch in /usr/local/lib/python3.6/dist-packages (from fiona->geopandas) (2.5.0)\n",
            "Requirement already satisfied: click-plugins>=1.0 in /usr/local/lib/python3.6/dist-packages (from fiona->geopandas) (1.1.1)\n",
            "Requirement already satisfied: six>=1.7 in /usr/local/lib/python3.6/dist-packages (from fiona->geopandas) (1.12.0)\n",
            "Requirement already satisfied: click<8,>=4.0 in /usr/local/lib/python3.6/dist-packages (from fiona->geopandas) (7.1.1)\n",
            "Requirement already satisfied: cligj>=0.5 in /usr/local/lib/python3.6/dist-packages (from fiona->geopandas) (0.5.0)\n",
            "Requirement already satisfied: attrs>=17 in /usr/local/lib/python3.6/dist-packages (from fiona->geopandas) (19.3.0)\n",
            "Requirement already satisfied: python-dateutil>=2.6.1 in /usr/local/lib/python3.6/dist-packages (from pandas>=0.23.0->geopandas) (2.8.1)\n",
            "Requirement already satisfied: numpy>=1.13.3 in /usr/local/lib/python3.6/dist-packages (from pandas>=0.23.0->geopandas) (1.18.2)\n",
            "Requirement already satisfied: pytz>=2017.2 in /usr/local/lib/python3.6/dist-packages (from pandas>=0.23.0->geopandas) (2018.9)\n",
            "Collecting eeconvert\n",
            "  Downloading https://files.pythonhosted.org/packages/14/af/103e633869dbe86d3b1de0b1fff86a8a5bdf05848ada25f5e82dbc1c73fd/eeconvert-0.1.22-py2.py3-none-any.whl\n",
            "Requirement already satisfied: boto3 in /usr/local/lib/python3.6/dist-packages (from eeconvert) (1.12.26)\n",
            "Requirement already satisfied: folium in /usr/local/lib/python3.6/dist-packages (from eeconvert) (0.8.3)\n",
            "Requirement already satisfied: sqlalchemy in /usr/local/lib/python3.6/dist-packages (from eeconvert) (1.3.15)\n",
            "Requirement already satisfied: shapely in /usr/local/lib/python3.6/dist-packages (from eeconvert) (1.7.0)\n",
            "Requirement already satisfied: earthengine-api in /usr/local/lib/python3.6/dist-packages (from eeconvert) (0.1.216)\n",
            "Collecting geojson\n",
            "  Downloading https://files.pythonhosted.org/packages/e4/8d/9e28e9af95739e6d2d2f8d4bef0b3432da40b7c3588fbad4298c1be09e48/geojson-2.5.0-py2.py3-none-any.whl\n",
            "Requirement already satisfied: botocore in /usr/local/lib/python3.6/dist-packages (from eeconvert) (1.15.26)\n",
            "Requirement already satisfied: pandas in /usr/local/lib/python3.6/dist-packages (from eeconvert) (0.25.3)\n",
            "Requirement already satisfied: branca in /usr/local/lib/python3.6/dist-packages (from eeconvert) (0.4.0)\n",
            "Requirement already satisfied: geopandas in /usr/local/lib/python3.6/dist-packages (from eeconvert) (0.7.0)\n",
            "Requirement already satisfied: s3transfer<0.4.0,>=0.3.0 in /usr/local/lib/python3.6/dist-packages (from boto3->eeconvert) (0.3.3)\n",
            "Requirement already satisfied: jmespath<1.0.0,>=0.7.1 in /usr/local/lib/python3.6/dist-packages (from boto3->eeconvert) (0.9.5)\n",
            "Requirement already satisfied: jinja2 in /usr/local/lib/python3.6/dist-packages (from folium->eeconvert) (2.11.1)\n",
            "Requirement already satisfied: six in /usr/local/lib/python3.6/dist-packages (from folium->eeconvert) (1.12.0)\n",
            "Requirement already satisfied: requests in /usr/local/lib/python3.6/dist-packages (from folium->eeconvert) (2.21.0)\n",
            "Requirement already satisfied: numpy in /usr/local/lib/python3.6/dist-packages (from folium->eeconvert) (1.18.2)\n",
            "Requirement already satisfied: google-auth-httplib2>=0.0.3 in /usr/local/lib/python3.6/dist-packages (from earthengine-api->eeconvert) (0.0.3)\n",
            "Requirement already satisfied: httplib2<1dev,>=0.9.2 in /usr/local/lib/python3.6/dist-packages (from earthengine-api->eeconvert) (0.17.0)\n",
            "Requirement already satisfied: google-auth>=1.4.1 in /usr/local/lib/python3.6/dist-packages (from earthengine-api->eeconvert) (1.7.2)\n",
            "Requirement already satisfied: future in /usr/local/lib/python3.6/dist-packages (from earthengine-api->eeconvert) (0.16.0)\n",
            "Requirement already satisfied: google-cloud-storage in /usr/local/lib/python3.6/dist-packages (from earthengine-api->eeconvert) (1.18.1)\n",
            "Requirement already satisfied: httplib2shim in /usr/local/lib/python3.6/dist-packages (from earthengine-api->eeconvert) (0.0.3)\n",
            "Requirement already satisfied: google-api-python-client in /usr/local/lib/python3.6/dist-packages (from earthengine-api->eeconvert) (1.7.12)\n",
            "Requirement already satisfied: python-dateutil<3.0.0,>=2.1 in /usr/local/lib/python3.6/dist-packages (from botocore->eeconvert) (2.8.1)\n",
            "Requirement already satisfied: docutils<0.16,>=0.10 in /usr/local/lib/python3.6/dist-packages (from botocore->eeconvert) (0.15.2)\n",
            "Requirement already satisfied: urllib3<1.26,>=1.20; python_version != \"3.4\" in /usr/local/lib/python3.6/dist-packages (from botocore->eeconvert) (1.24.3)\n",
            "Requirement already satisfied: pytz>=2017.2 in /usr/local/lib/python3.6/dist-packages (from pandas->eeconvert) (2018.9)\n",
            "Requirement already satisfied: pyproj>=2.2.0 in /usr/local/lib/python3.6/dist-packages (from geopandas->eeconvert) (2.6.0)\n",
            "Requirement already satisfied: fiona in /usr/local/lib/python3.6/dist-packages (from geopandas->eeconvert) (1.8.13.post1)\n",
            "Requirement already satisfied: MarkupSafe>=0.23 in /usr/local/lib/python3.6/dist-packages (from jinja2->folium->eeconvert) (1.1.1)\n",
            "Requirement already satisfied: idna<2.9,>=2.5 in /usr/local/lib/python3.6/dist-packages (from requests->folium->eeconvert) (2.8)\n",
            "Requirement already satisfied: chardet<3.1.0,>=3.0.2 in /usr/local/lib/python3.6/dist-packages (from requests->folium->eeconvert) (3.0.4)\n",
            "Requirement already satisfied: certifi>=2017.4.17 in /usr/local/lib/python3.6/dist-packages (from requests->folium->eeconvert) (2019.11.28)\n",
            "Requirement already satisfied: setuptools>=40.3.0 in /usr/local/lib/python3.6/dist-packages (from google-auth>=1.4.1->earthengine-api->eeconvert) (46.0.0)\n",
            "Requirement already satisfied: pyasn1-modules>=0.2.1 in /usr/local/lib/python3.6/dist-packages (from google-auth>=1.4.1->earthengine-api->eeconvert) (0.2.8)\n",
            "Requirement already satisfied: rsa<4.1,>=3.1.4 in /usr/local/lib/python3.6/dist-packages (from google-auth>=1.4.1->earthengine-api->eeconvert) (4.0)\n",
            "Requirement already satisfied: cachetools<3.2,>=2.0.0 in /usr/local/lib/python3.6/dist-packages (from google-auth>=1.4.1->earthengine-api->eeconvert) (3.1.1)\n",
            "Requirement already satisfied: google-resumable-media<0.5.0dev,>=0.3.1 in /usr/local/lib/python3.6/dist-packages (from google-cloud-storage->earthengine-api->eeconvert) (0.4.1)\n",
            "Requirement already satisfied: google-cloud-core<2.0dev,>=1.0.0 in /usr/local/lib/python3.6/dist-packages (from google-cloud-storage->earthengine-api->eeconvert) (1.0.3)\n",
            "Requirement already satisfied: uritemplate<4dev,>=3.0.0 in /usr/local/lib/python3.6/dist-packages (from google-api-python-client->earthengine-api->eeconvert) (3.0.1)\n",
            "Requirement already satisfied: click-plugins>=1.0 in /usr/local/lib/python3.6/dist-packages (from fiona->geopandas->eeconvert) (1.1.1)\n",
            "Requirement already satisfied: click<8,>=4.0 in /usr/local/lib/python3.6/dist-packages (from fiona->geopandas->eeconvert) (7.1.1)\n",
            "Requirement already satisfied: attrs>=17 in /usr/local/lib/python3.6/dist-packages (from fiona->geopandas->eeconvert) (19.3.0)\n",
            "Requirement already satisfied: cligj>=0.5 in /usr/local/lib/python3.6/dist-packages (from fiona->geopandas->eeconvert) (0.5.0)\n",
            "Requirement already satisfied: munch in /usr/local/lib/python3.6/dist-packages (from fiona->geopandas->eeconvert) (2.5.0)\n",
            "Requirement already satisfied: pyasn1<0.5.0,>=0.4.6 in /usr/local/lib/python3.6/dist-packages (from pyasn1-modules>=0.2.1->google-auth>=1.4.1->earthengine-api->eeconvert) (0.4.8)\n",
            "Requirement already satisfied: google-api-core<2.0.0dev,>=1.14.0 in /usr/local/lib/python3.6/dist-packages (from google-cloud-core<2.0dev,>=1.0.0->google-cloud-storage->earthengine-api->eeconvert) (1.16.0)\n",
            "Requirement already satisfied: googleapis-common-protos<2.0dev,>=1.6.0 in /usr/local/lib/python3.6/dist-packages (from google-api-core<2.0.0dev,>=1.14.0->google-cloud-core<2.0dev,>=1.0.0->google-cloud-storage->earthengine-api->eeconvert) (1.51.0)\n",
            "Requirement already satisfied: protobuf>=3.4.0 in /usr/local/lib/python3.6/dist-packages (from google-api-core<2.0.0dev,>=1.14.0->google-cloud-core<2.0dev,>=1.0.0->google-cloud-storage->earthengine-api->eeconvert) (3.10.0)\n",
            "Installing collected packages: geojson, eeconvert\n",
            "Successfully installed eeconvert-0.1.22 geojson-2.5.0\n"
          ],
          "name": "stdout"
        }
      ]
    },
    {
      "cell_type": "markdown",
      "metadata": {
        "id": "oxeeVDke3L8K",
        "colab_type": "text"
      },
      "source": [
        "## Define region reduction function\n",
        "\n"
      ]
    },
    {
      "cell_type": "markdown",
      "metadata": {
        "id": "8MWbSSWjIRs1",
        "colab_type": "text"
      },
      "source": [
        "### Reduction arguments\n",
        "\n",
        "Define a global dictionary that provides arguments to the Earth Engine `reduceRegion` image method."
      ]
    },
    {
      "cell_type": "code",
      "metadata": {
        "id": "fGb4uoN23Kkq",
        "colab_type": "code",
        "colab": {}
      },
      "source": [
        "reReArgs = {\n",
        "  'reducer': ee.Reducer.mean(),\n",
        "  'geometry': ee.Geometry.Point([0, 0]),\n",
        "  'scale': 1000,\n",
        "  'crs': 'EPSG:5070',\n",
        "  'bestEffort': True,\n",
        "  'maxPixels': 1e14,\n",
        "  'tileScale': 4}"
      ],
      "execution_count": 0,
      "outputs": []
    },
    {
      "cell_type": "markdown",
      "metadata": {
        "id": "GWG8SqeU3amp",
        "colab_type": "text"
      },
      "source": [
        "### Reduction function\n",
        "\n",
        "This function reduces the pixels intersecting a region to a statistic. It operates on a single `ee.Image` and returns an `ee.Feature` (after the reduction, the pixel values and geometry matter not, so just return an aspatial feature). The plan is to map this over an `ee.ImageCollection`.\n",
        "\n",
        "1. Derive a series of date properties that will be used in charting.\n",
        "2. Apply the `reduceRegion` method to the image using arguments provided by the global `reReArgs` dictionary.\n",
        "3. Return an `ee.Feature` without geometry that contains the region reduction statistic result (an `ee.dictionary`), all image properties, and the derived date properties. "
      ]
    },
    {
      "cell_type": "code",
      "metadata": {
        "id": "0mkEjSrFlkjL",
        "colab_type": "code",
        "colab": {}
      },
      "source": [
        "def regionReduce(img):\n",
        "  eeDate = img.date()\n",
        "  year = eeDate.get('year')\n",
        "  month = eeDate.getRelative('month', 'year')\n",
        "  doy = eeDate.getRelative('day', 'year')\n",
        "  date = eeDate.format('YYYY-MM-dd')\n",
        "  \n",
        "  stat = img.reduceRegion(\n",
        "    reducer = reReArgs['reducer'],\n",
        "    geometry = reReArgs['geometry'],\n",
        "    scale = reReArgs['scale'],\n",
        "    crs = reReArgs['crs'],\n",
        "    bestEffort = reReArgs['bestEffort'],\n",
        "    maxPixels = reReArgs['maxPixels'],\n",
        "    tileScale = reReArgs['tileScale'])\n",
        "\n",
        "  return(ee.Feature(None, stat) \\\n",
        "    .copyProperties(img, img.propertyNames())\n",
        "    .set({\n",
        "      'DOY': doy,\n",
        "      'Month': month,\n",
        "      'Year': year,\n",
        "      'Date': date}))"
      ],
      "execution_count": 0,
      "outputs": []
    },
    {
      "cell_type": "markdown",
      "metadata": {
        "id": "T-k7xPg-3oog",
        "colab_type": "text"
      },
      "source": [
        "### Reduction to list"
      ]
    },
    {
      "cell_type": "markdown",
      "metadata": {
        "id": "8fvf1KjpxtwZ",
        "colab_type": "text"
      },
      "source": [
        "The result of the above region reduction function is an `ee.FeatureCollection`, but a list is easier to work with. The following takes a collection and a list of properties to aggregate into a list of lists.\n",
        "\n",
        "1. Apply the above defined `regionReduce` function to all images in the passed collection.\n",
        "2. Remove any features that are `null` for the requested properties (ensure equal length property lists in the following step)\n",
        "3. Aggregate requested properties into a list of lists\n",
        "4. Extract the list of lists from the resulting dictionary and then send the data to the Colab VM client with `getInfo()`"
      ]
    },
    {
      "cell_type": "code",
      "metadata": {
        "id": "zmfHAs8JmXc2",
        "colab_type": "code",
        "colab": {}
      },
      "source": [
        "def getReReList(col, props):\n",
        "  dict = col.map(regionReduce) \\\n",
        "    .filter(ee.Filter.notNull(props)) \\\n",
        "    .reduceColumns(\n",
        "      reducer = ee.Reducer.toList().repeat(len(props)),\n",
        "      selectors = props)\n",
        "\n",
        "  return(ee.List(dict.get('list')).getInfo())"
      ],
      "execution_count": 0,
      "outputs": []
    },
    {
      "cell_type": "markdown",
      "metadata": {
        "id": "fYFE71iWobNp",
        "colab_type": "text"
      },
      "source": [
        "## Reduce drought severity by region\n",
        "\n"
      ]
    },
    {
      "cell_type": "markdown",
      "metadata": {
        "id": "fPqa1d4v2vkV",
        "colab_type": "text"
      },
      "source": [
        "###  Load PDSI and AOI\n",
        "\n",
        "1. Load gridded Palmer Drought Severity Index (PDSI) data as an `ee.ImageCollection`\n",
        "2. Load the EPA Level-3 ecoregion boundaries as an `ee.FeatureCollection` and filter it to include only the Sierra Nevada region, which defines the area of interest (AOI)."
      ]
    },
    {
      "cell_type": "code",
      "metadata": {
        "id": "A9-wmYYAgnYf",
        "colab_type": "code",
        "colab": {}
      },
      "source": [
        "def gdfToFc(gdf):\n",
        "    \"\"\"converts a geodataframe  to a featurecollection   \n",
        "    Args:\n",
        "        gdf (geoPandas.GeoDataFrame) : the input geodataframe       \n",
        "    Returns:\n",
        "        fc (ee.FeatureCollection) : feature collection (server side)      \n",
        "    \"\"\"\n",
        "    gdfCopy = gdf.copy()\n",
        "    gdfCopy[\"eeFeature\"] = gdfCopy.apply(eeconvert.shapelyToEEFeature,1)\n",
        "    featureList = gdfCopy[\"eeFeature\"].tolist()\n",
        "    fc =  ee.FeatureCollection(featureList)\n",
        "    return fc"
      ],
      "execution_count": 0,
      "outputs": []
    },
    {
      "cell_type": "code",
      "metadata": {
        "id": "iTl381vFnZs0",
        "colab_type": "code",
        "colab": {}
      },
      "source": [
        "pdsi = ee.ImageCollection('IDAHO_EPSCOR/PDSI')\n",
        "\n",
        "\n",
        "geojson_url = 'https://gist.githubusercontent.com/jirikadlec2/c503a718d16dfb2f65dbf4e5a6627d32/raw/a817c5629c10df73d83ebf4e30e46fc3f0f5a204/bhutan_test_sites.geojson'\n",
        "aoi_geodataframe = geopandas.read_file(geojson_url)\n",
        "aoi_geodataframe.head()\n",
        "\n",
        "bhutan_sites = gdfToFc(aoi_geodataframe)\n",
        "#sn = ee.FeatureCollection(geojson_url)\n",
        "\n",
        "sn = bhutan_sites.filter(ee.Filter.eq('description', 'site3'))\n",
        "\n",
        "#sn = ee.FeatureCollection('EPA/Ecoregions/2013/L3') \\\n",
        "#  .filter(ee.Filter.eq('na_l3name', 'Sierra Nevada'))"
      ],
      "execution_count": 0,
      "outputs": []
    },
    {
      "cell_type": "markdown",
      "metadata": {
        "id": "hLJ_XNtEog_L",
        "colab_type": "text"
      },
      "source": [
        "### Reduce PDSI by AOI\n",
        "\n",
        "1. Set the reduce region arguments.\n",
        "2. Reduce PDSI for the AOI and return the results as a list. (return all properties in the provided list) "
      ]
    },
    {
      "cell_type": "code",
      "metadata": {
        "id": "p_9MyvRrogoT",
        "colab_type": "code",
        "colab": {}
      },
      "source": [
        "# Reset global arguments.\n",
        "reReArgs['scale'] = 5000\n",
        "reReArgs['reducer'] = ee.Reducer.mean()\n",
        "reReArgs['geometry'] = sn\n",
        "reReArgs['crs'] = 'EPSG:3310'\n",
        "\n",
        "# Get a list containing a series of lists, one for each property given. \n",
        "snPdsiList = getReReList(pdsi, ['Year', 'Month', 'DOY', 'Date', 'pdsi'])"
      ],
      "execution_count": 0,
      "outputs": []
    },
    {
      "cell_type": "markdown",
      "metadata": {
        "id": "GZZsiwC6DgvZ",
        "colab_type": "text"
      },
      "source": [
        "### Format the table"
      ]
    },
    {
      "cell_type": "markdown",
      "metadata": {
        "id": "FOIjwRbn4DGU",
        "colab_type": "text"
      },
      "source": [
        "#### Check the format\n",
        "\n",
        "Print the list dimensions. These data are in memory on the Colab VM."
      ]
    },
    {
      "cell_type": "code",
      "metadata": {
        "id": "rGWwbEtKGmYu",
        "colab_type": "code",
        "outputId": "6f4a2856-1d81-4a7f-a3e0-e84ecce959b3",
        "colab": {
          "base_uri": "https://localhost:8080/",
          "height": 54
        }
      },
      "source": [
        "# Print the dimensions of the returned list.\n",
        "print('n variables:', len(snPdsiList))\n",
        "print('n observations:', len(snPdsiList[0]))"
      ],
      "execution_count": 22,
      "outputs": [
        {
          "output_type": "stream",
          "text": [
            "n variables: 5\n",
            "n observations: 0\n"
          ],
          "name": "stdout"
        }
      ]
    },
    {
      "cell_type": "markdown",
      "metadata": {
        "id": "_wGYnuPtq8Kb",
        "colab_type": "text"
      },
      "source": [
        "#### Convert list of lists to dataframe\n",
        "\n",
        "1. Convert the list to a Pandas dataframe.\n",
        "2. Print the shape of the new dataframe. `shape` returns (n rows, n columns)"
      ]
    },
    {
      "cell_type": "code",
      "metadata": {
        "id": "XEWDdZyNqRfw",
        "colab_type": "code",
        "outputId": "b4717677-a29a-451e-9b1a-284c5210afcf",
        "colab": {
          "base_uri": "https://localhost:8080/",
          "height": 35
        }
      },
      "source": [
        "snPdsiDf = pd.DataFrame(snPdsiList)\n",
        "print(snPdsiDf.shape)"
      ],
      "execution_count": 23,
      "outputs": [
        {
          "output_type": "stream",
          "text": [
            "(5, 0)\n"
          ],
          "name": "stdout"
        }
      ]
    },
    {
      "cell_type": "markdown",
      "metadata": {
        "id": "tK1WcJQcrszT",
        "colab_type": "text"
      },
      "source": [
        "#### Transpose the dataframe \n",
        "\n",
        "1. Transpose the dataframe.\n",
        "2. Print the shape again."
      ]
    },
    {
      "cell_type": "code",
      "metadata": {
        "id": "crjiCcFNrhcN",
        "colab_type": "code",
        "outputId": "e6060484-b51a-41c2-f4e4-2357c4a7fbea",
        "colab": {
          "base_uri": "https://localhost:8080/",
          "height": 35
        }
      },
      "source": [
        "snPdsiDf = snPdsiDf.transpose()\n",
        "print(snPdsiDf.shape)"
      ],
      "execution_count": 24,
      "outputs": [
        {
          "output_type": "stream",
          "text": [
            "(0, 5)\n"
          ],
          "name": "stdout"
        }
      ]
    },
    {
      "cell_type": "markdown",
      "metadata": {
        "id": "l9p67L1ysRKv",
        "colab_type": "text"
      },
      "source": [
        "Preview the first 5 rows of the dataframe."
      ]
    },
    {
      "cell_type": "code",
      "metadata": {
        "id": "-egr-cdcr77T",
        "colab_type": "code",
        "outputId": "419c0240-1abf-4686-9abc-3d9806896b80",
        "colab": {
          "base_uri": "https://localhost:8080/",
          "height": 49
        }
      },
      "source": [
        "snPdsiDf.head(5)"
      ],
      "execution_count": 25,
      "outputs": [
        {
          "output_type": "execute_result",
          "data": {
            "text/html": [
              "<div>\n",
              "<style scoped>\n",
              "    .dataframe tbody tr th:only-of-type {\n",
              "        vertical-align: middle;\n",
              "    }\n",
              "\n",
              "    .dataframe tbody tr th {\n",
              "        vertical-align: top;\n",
              "    }\n",
              "\n",
              "    .dataframe thead th {\n",
              "        text-align: right;\n",
              "    }\n",
              "</style>\n",
              "<table border=\"1\" class=\"dataframe\">\n",
              "  <thead>\n",
              "    <tr style=\"text-align: right;\">\n",
              "      <th></th>\n",
              "      <th>0</th>\n",
              "      <th>1</th>\n",
              "      <th>2</th>\n",
              "      <th>3</th>\n",
              "      <th>4</th>\n",
              "    </tr>\n",
              "  </thead>\n",
              "  <tbody>\n",
              "  </tbody>\n",
              "</table>\n",
              "</div>"
            ],
            "text/plain": [
              "Empty DataFrame\n",
              "Columns: [0, 1, 2, 3, 4]\n",
              "Index: []"
            ]
          },
          "metadata": {
            "tags": []
          },
          "execution_count": 25
        }
      ]
    },
    {
      "cell_type": "markdown",
      "metadata": {
        "id": "KF2sTY7us5FO",
        "colab_type": "text"
      },
      "source": [
        "It's missing column names - add some and preview again. "
      ]
    },
    {
      "cell_type": "code",
      "metadata": {
        "id": "OdPq25JSs9Pj",
        "colab_type": "code",
        "outputId": "b1814507-b164-4564-8c5b-3004d9c485aa",
        "colab": {
          "base_uri": "https://localhost:8080/",
          "height": 49
        }
      },
      "source": [
        "snPdsiDf.columns = ['Year', 'Month', 'DOY', 'Date', 'PDSI']\n",
        "snPdsiDf.head(5)"
      ],
      "execution_count": 26,
      "outputs": [
        {
          "output_type": "execute_result",
          "data": {
            "text/html": [
              "<div>\n",
              "<style scoped>\n",
              "    .dataframe tbody tr th:only-of-type {\n",
              "        vertical-align: middle;\n",
              "    }\n",
              "\n",
              "    .dataframe tbody tr th {\n",
              "        vertical-align: top;\n",
              "    }\n",
              "\n",
              "    .dataframe thead th {\n",
              "        text-align: right;\n",
              "    }\n",
              "</style>\n",
              "<table border=\"1\" class=\"dataframe\">\n",
              "  <thead>\n",
              "    <tr style=\"text-align: right;\">\n",
              "      <th></th>\n",
              "      <th>Year</th>\n",
              "      <th>Month</th>\n",
              "      <th>DOY</th>\n",
              "      <th>Date</th>\n",
              "      <th>PDSI</th>\n",
              "    </tr>\n",
              "  </thead>\n",
              "  <tbody>\n",
              "  </tbody>\n",
              "</table>\n",
              "</div>"
            ],
            "text/plain": [
              "Empty DataFrame\n",
              "Columns: [Year, Month, DOY, Date, PDSI]\n",
              "Index: []"
            ]
          },
          "metadata": {
            "tags": []
          },
          "execution_count": 26
        }
      ]
    },
    {
      "cell_type": "markdown",
      "metadata": {
        "id": "Sg6XQWritHcs",
        "colab_type": "text"
      },
      "source": [
        "Now check the data type of each column."
      ]
    },
    {
      "cell_type": "code",
      "metadata": {
        "id": "QsV2q0wvtPrK",
        "colab_type": "code",
        "outputId": "d3eb5b8c-3ab5-4be8-fb33-2a0bc9eb60eb",
        "colab": {
          "base_uri": "https://localhost:8080/",
          "height": 127
        }
      },
      "source": [
        "snPdsiDf.dtypes"
      ],
      "execution_count": 27,
      "outputs": [
        {
          "output_type": "execute_result",
          "data": {
            "text/plain": [
              "Year     float64\n",
              "Month    float64\n",
              "DOY      float64\n",
              "Date     float64\n",
              "PDSI     float64\n",
              "dtype: object"
            ]
          },
          "metadata": {
            "tags": []
          },
          "execution_count": 27
        }
      ]
    },
    {
      "cell_type": "markdown",
      "metadata": {
        "id": "PoFNOLlFuBU6",
        "colab_type": "text"
      },
      "source": [
        "`object` is a string - set the data types and preview again."
      ]
    },
    {
      "cell_type": "code",
      "metadata": {
        "id": "QZBYn6jdtUJJ",
        "colab_type": "code",
        "outputId": "88dd33c9-2f16-45f4-8d3e-58fec8577dfc",
        "colab": {
          "base_uri": "https://localhost:8080/",
          "height": 127
        }
      },
      "source": [
        "snPdsiDf = snPdsiDf.astype({'Year': int, 'Month': int, 'DOY': int, 'Date': str, 'PDSI': float})\n",
        "snPdsiDf.dtypes"
      ],
      "execution_count": 28,
      "outputs": [
        {
          "output_type": "execute_result",
          "data": {
            "text/plain": [
              "Year       int64\n",
              "Month      int64\n",
              "DOY        int64\n",
              "Date      object\n",
              "PDSI     float64\n",
              "dtype: object"
            ]
          },
          "metadata": {
            "tags": []
          },
          "execution_count": 28
        }
      ]
    },
    {
      "cell_type": "markdown",
      "metadata": {
        "id": "Jk25GJG3HFlA",
        "colab_type": "text"
      },
      "source": [
        "Get the month correct."
      ]
    },
    {
      "cell_type": "code",
      "metadata": {
        "id": "dEeIpSt8HJVU",
        "colab_type": "code",
        "outputId": "e9fe7fd2-1927-409c-fc6b-3eac8c9d611a",
        "colab": {
          "base_uri": "https://localhost:8080/",
          "height": 49
        }
      },
      "source": [
        "snPdsiDf['Month'] = snPdsiDf['Month'] + 1\n",
        "snPdsiDf.head(5)"
      ],
      "execution_count": 29,
      "outputs": [
        {
          "output_type": "execute_result",
          "data": {
            "text/html": [
              "<div>\n",
              "<style scoped>\n",
              "    .dataframe tbody tr th:only-of-type {\n",
              "        vertical-align: middle;\n",
              "    }\n",
              "\n",
              "    .dataframe tbody tr th {\n",
              "        vertical-align: top;\n",
              "    }\n",
              "\n",
              "    .dataframe thead th {\n",
              "        text-align: right;\n",
              "    }\n",
              "</style>\n",
              "<table border=\"1\" class=\"dataframe\">\n",
              "  <thead>\n",
              "    <tr style=\"text-align: right;\">\n",
              "      <th></th>\n",
              "      <th>Year</th>\n",
              "      <th>Month</th>\n",
              "      <th>DOY</th>\n",
              "      <th>Date</th>\n",
              "      <th>PDSI</th>\n",
              "    </tr>\n",
              "  </thead>\n",
              "  <tbody>\n",
              "  </tbody>\n",
              "</table>\n",
              "</div>"
            ],
            "text/plain": [
              "Empty DataFrame\n",
              "Columns: [Year, Month, DOY, Date, PDSI]\n",
              "Index: []"
            ]
          },
          "metadata": {
            "tags": []
          },
          "execution_count": 29
        }
      ]
    },
    {
      "cell_type": "markdown",
      "metadata": {
        "id": "k4vsHdOaTB8S",
        "colab_type": "text"
      },
      "source": [
        "#### Define a data structure translator\n",
        "\n",
        "The above data structure transformation will be used again multiple times; make it a function."
      ]
    },
    {
      "cell_type": "code",
      "metadata": {
        "id": "8TB0Sp7ZTkv-",
        "colab_type": "code",
        "colab": {}
      },
      "source": [
        "cols = {'Year': int, 'Month': int, 'DOY': int, 'Date': str, 'PDSI': float}\n",
        "\n",
        "def eeList2Df(list, cols):\n",
        "  df = pd.DataFrame(list).transpose()\n",
        "  df.columns = [k for k in cols.keys()]\n",
        "  return(df.astype(cols))"
      ],
      "execution_count": 0,
      "outputs": []
    },
    {
      "cell_type": "markdown",
      "metadata": {
        "id": "VbbOWe4OEWKz",
        "colab_type": "text"
      },
      "source": [
        "### Calendar heatmap"
      ]
    },
    {
      "cell_type": "code",
      "metadata": {
        "id": "BY4FJBtNuLeY",
        "colab_type": "code",
        "outputId": "a436aeb1-f541-4aaf-b450-f4c431e07ac9",
        "colab": {
          "base_uri": "https://localhost:8080/",
          "height": 346
        }
      },
      "source": [
        "alt.Chart(snPdsiDf).mark_rect().encode(\n",
        "  x = 'Year:O',\n",
        "  y = 'Month:O',\n",
        "  color = alt.Color('PDSI:Q', scale=alt.Scale(scheme=\"redblue\", domain=(-5, 5))),\n",
        "  tooltip = [\n",
        "    alt.Tooltip('Year:O', title='Year'),\n",
        "    alt.Tooltip('mean(Month):O', title='Month'),\n",
        "    alt.Tooltip('PDSI:Q', title='PDSI')\n",
        "  ]).properties(width=700, height=300)"
      ],
      "execution_count": 31,
      "outputs": [
        {
          "output_type": "execute_result",
          "data": {
            "text/plain": [
              "alt.Chart(...)"
            ],
            "text/html": [
              "\n",
              "<div id=\"altair-viz-d83ceebe9f3a4c8ca3a3d578d064e82f\"></div>\n",
              "<script type=\"text/javascript\">\n",
              "  (function(spec, embedOpt){\n",
              "    const outputDiv = document.getElementById(\"altair-viz-d83ceebe9f3a4c8ca3a3d578d064e82f\");\n",
              "    const paths = {\n",
              "      \"vega\": \"https://cdn.jsdelivr.net/npm//vega@5?noext\",\n",
              "      \"vega-lib\": \"https://cdn.jsdelivr.net/npm//vega-lib?noext\",\n",
              "      \"vega-lite\": \"https://cdn.jsdelivr.net/npm//vega-lite@4.0.2?noext\",\n",
              "      \"vega-embed\": \"https://cdn.jsdelivr.net/npm//vega-embed@6?noext\",\n",
              "    };\n",
              "\n",
              "    function loadScript(lib) {\n",
              "      return new Promise(function(resolve, reject) {\n",
              "        var s = document.createElement('script');\n",
              "        s.src = paths[lib];\n",
              "        s.async = true;\n",
              "        s.onload = () => resolve(paths[lib]);\n",
              "        s.onerror = () => reject(`Error loading script: ${paths[lib]}`);\n",
              "        document.getElementsByTagName(\"head\")[0].appendChild(s);\n",
              "      });\n",
              "    }\n",
              "\n",
              "    function showError(err) {\n",
              "      outputDiv.innerHTML = `<div class=\"error\" style=\"color:red;\">${err}</div>`;\n",
              "      throw err;\n",
              "    }\n",
              "\n",
              "    function displayChart(vegaEmbed) {\n",
              "      vegaEmbed(outputDiv, spec, embedOpt)\n",
              "        .catch(err => showError(`Javascript Error: ${err.message}<br>This usually means there's a typo in your chart specification. See the javascript console for the full traceback.`));\n",
              "    }\n",
              "\n",
              "    if(typeof define === \"function\" && define.amd) {\n",
              "      requirejs.config({paths});\n",
              "      require([\"vega-embed\"], displayChart, err => showError(`Error loading script: ${err.message}`));\n",
              "    } else if (typeof vegaEmbed === \"function\") {\n",
              "      displayChart(vegaEmbed);\n",
              "    } else {\n",
              "      loadScript(\"vega\")\n",
              "        .then(() => loadScript(\"vega-lite\"))\n",
              "        .then(() => loadScript(\"vega-embed\"))\n",
              "        .catch(showError)\n",
              "        .then(() => displayChart(vegaEmbed));\n",
              "    }\n",
              "  })({\"config\": {\"view\": {\"continuousWidth\": 400, \"continuousHeight\": 300}}, \"data\": {\"name\": \"data-d751713988987e9331980363e24189ce\"}, \"mark\": \"rect\", \"encoding\": {\"color\": {\"type\": \"quantitative\", \"field\": \"PDSI\", \"scale\": {\"domain\": [-5, 5], \"scheme\": \"redblue\"}}, \"tooltip\": [{\"type\": \"ordinal\", \"field\": \"Year\", \"title\": \"Year\"}, {\"type\": \"ordinal\", \"aggregate\": \"mean\", \"field\": \"Month\", \"title\": \"Month\"}, {\"type\": \"quantitative\", \"field\": \"PDSI\", \"title\": \"PDSI\"}], \"x\": {\"type\": \"ordinal\", \"field\": \"Year\"}, \"y\": {\"type\": \"ordinal\", \"field\": \"Month\"}}, \"height\": 300, \"width\": 700, \"$schema\": \"https://vega.github.io/schema/vega-lite/v4.0.2.json\", \"datasets\": {\"data-d751713988987e9331980363e24189ce\": []}}, {\"mode\": \"vega-lite\"});\n",
              "</script>"
            ]
          },
          "metadata": {
            "tags": []
          },
          "execution_count": 31
        }
      ]
    },
    {
      "cell_type": "markdown",
      "metadata": {
        "id": "OrNfrsd-ifa8",
        "colab_type": "text"
      },
      "source": [
        "### Bar chart"
      ]
    },
    {
      "cell_type": "code",
      "metadata": {
        "id": "58p76nLEwaEY",
        "colab_type": "code",
        "outputId": "870f074a-732d-45d0-c7a7-53721d26963f",
        "colab": {
          "base_uri": "https://localhost:8080/",
          "height": 346
        }
      },
      "source": [
        "alt.Chart(snPdsiDf).mark_bar(size=1).encode(\n",
        "  x = 'Date:T',\n",
        "  y = 'PDSI:Q',\n",
        "  color = alt.Color('PDSI:Q', scale=alt.Scale(scheme=\"redblue\", domain=(-5, 5))),\n",
        "  tooltip = [\n",
        "    alt.Tooltip('Date:T', title='Date'),\n",
        "    alt.Tooltip('PDSI:Q', title='PDSI')\n",
        "  ]\n",
        ").properties(width=700, height=300)"
      ],
      "execution_count": 32,
      "outputs": [
        {
          "output_type": "execute_result",
          "data": {
            "text/plain": [
              "alt.Chart(...)"
            ],
            "text/html": [
              "\n",
              "<div id=\"altair-viz-b2983dfaec184203887919b2c1e6c4f1\"></div>\n",
              "<script type=\"text/javascript\">\n",
              "  (function(spec, embedOpt){\n",
              "    const outputDiv = document.getElementById(\"altair-viz-b2983dfaec184203887919b2c1e6c4f1\");\n",
              "    const paths = {\n",
              "      \"vega\": \"https://cdn.jsdelivr.net/npm//vega@5?noext\",\n",
              "      \"vega-lib\": \"https://cdn.jsdelivr.net/npm//vega-lib?noext\",\n",
              "      \"vega-lite\": \"https://cdn.jsdelivr.net/npm//vega-lite@4.0.2?noext\",\n",
              "      \"vega-embed\": \"https://cdn.jsdelivr.net/npm//vega-embed@6?noext\",\n",
              "    };\n",
              "\n",
              "    function loadScript(lib) {\n",
              "      return new Promise(function(resolve, reject) {\n",
              "        var s = document.createElement('script');\n",
              "        s.src = paths[lib];\n",
              "        s.async = true;\n",
              "        s.onload = () => resolve(paths[lib]);\n",
              "        s.onerror = () => reject(`Error loading script: ${paths[lib]}`);\n",
              "        document.getElementsByTagName(\"head\")[0].appendChild(s);\n",
              "      });\n",
              "    }\n",
              "\n",
              "    function showError(err) {\n",
              "      outputDiv.innerHTML = `<div class=\"error\" style=\"color:red;\">${err}</div>`;\n",
              "      throw err;\n",
              "    }\n",
              "\n",
              "    function displayChart(vegaEmbed) {\n",
              "      vegaEmbed(outputDiv, spec, embedOpt)\n",
              "        .catch(err => showError(`Javascript Error: ${err.message}<br>This usually means there's a typo in your chart specification. See the javascript console for the full traceback.`));\n",
              "    }\n",
              "\n",
              "    if(typeof define === \"function\" && define.amd) {\n",
              "      requirejs.config({paths});\n",
              "      require([\"vega-embed\"], displayChart, err => showError(`Error loading script: ${err.message}`));\n",
              "    } else if (typeof vegaEmbed === \"function\") {\n",
              "      displayChart(vegaEmbed);\n",
              "    } else {\n",
              "      loadScript(\"vega\")\n",
              "        .then(() => loadScript(\"vega-lite\"))\n",
              "        .then(() => loadScript(\"vega-embed\"))\n",
              "        .catch(showError)\n",
              "        .then(() => displayChart(vegaEmbed));\n",
              "    }\n",
              "  })({\"config\": {\"view\": {\"continuousWidth\": 400, \"continuousHeight\": 300}}, \"data\": {\"name\": \"data-d751713988987e9331980363e24189ce\"}, \"mark\": {\"type\": \"bar\", \"size\": 1}, \"encoding\": {\"color\": {\"type\": \"quantitative\", \"field\": \"PDSI\", \"scale\": {\"domain\": [-5, 5], \"scheme\": \"redblue\"}}, \"tooltip\": [{\"type\": \"temporal\", \"field\": \"Date\", \"title\": \"Date\"}, {\"type\": \"quantitative\", \"field\": \"PDSI\", \"title\": \"PDSI\"}], \"x\": {\"type\": \"temporal\", \"field\": \"Date\"}, \"y\": {\"type\": \"quantitative\", \"field\": \"PDSI\"}}, \"height\": 300, \"width\": 700, \"$schema\": \"https://vega.github.io/schema/vega-lite/v4.0.2.json\", \"datasets\": {\"data-d751713988987e9331980363e24189ce\": []}}, {\"mode\": \"vega-lite\"});\n",
              "</script>"
            ]
          },
          "metadata": {
            "tags": []
          },
          "execution_count": 32
        }
      ]
    },
    {
      "cell_type": "markdown",
      "metadata": {
        "id": "pWviMm-Q2VMF",
        "colab_type": "text"
      },
      "source": [
        "## Reduce NDVI by region\n",
        "\n",
        "A measure of photosynthetic capacity from MODIS."
      ]
    },
    {
      "cell_type": "markdown",
      "metadata": {
        "id": "tigBp8Y9IWjC",
        "colab_type": "text"
      },
      "source": [
        "### Get data and reduce it\n",
        "\n",
        "1. Load MODIS NDVI data as an Earth Engine `ee.ImageCollection`.\n",
        "2. Set the region reduce `scale` argument to 1000 (meters).\n",
        "3. Get the data from Earth Engine to the Colab VM as a list of lists."
      ]
    },
    {
      "cell_type": "code",
      "metadata": {
        "id": "UrKSYhY3i-MG",
        "colab_type": "code",
        "colab": {}
      },
      "source": [
        "def calculate_ndvi(image):\n",
        "  ndvi = image.normalizedDifference(['B8', 'B4']).rename('NDVI')\n",
        "  return image.addBands(ndvi)"
      ],
      "execution_count": 0,
      "outputs": []
    },
    {
      "cell_type": "code",
      "metadata": {
        "id": "YfTfhCiX8Ew4",
        "colab_type": "code",
        "colab": {}
      },
      "source": [
        "ndvi = ee.ImageCollection('MODIS/006/MOD13A2').filterDate('2017-01-01', '2020-03-25').select('NDVI')\n",
        "\n",
        "reReArgs['scale'] = 1000\n",
        "snNdviList = getReReList(ndvi, ['Year', 'DOY', 'NDVI'])"
      ],
      "execution_count": 0,
      "outputs": []
    },
    {
      "cell_type": "markdown",
      "metadata": {
        "id": "qwtO27KMIemk",
        "colab_type": "text"
      },
      "source": [
        "Convert the list to a tidy dataframe and preview it."
      ]
    },
    {
      "cell_type": "code",
      "metadata": {
        "id": "_P-3PUnfIeEM",
        "colab_type": "code",
        "outputId": "683386c7-5f93-412b-9946-0a66405384e0",
        "colab": {
          "base_uri": "https://localhost:8080/",
          "height": 206
        }
      },
      "source": [
        "cols = {'Year': int, 'DOY': int, 'NDVI': float}\n",
        "snNdviDf = eeList2Df(snNdviList, cols)\n",
        "snNdviDf.head(5)"
      ],
      "execution_count": 47,
      "outputs": [
        {
          "output_type": "execute_result",
          "data": {
            "text/html": [
              "<div>\n",
              "<style scoped>\n",
              "    .dataframe tbody tr th:only-of-type {\n",
              "        vertical-align: middle;\n",
              "    }\n",
              "\n",
              "    .dataframe tbody tr th {\n",
              "        vertical-align: top;\n",
              "    }\n",
              "\n",
              "    .dataframe thead th {\n",
              "        text-align: right;\n",
              "    }\n",
              "</style>\n",
              "<table border=\"1\" class=\"dataframe\">\n",
              "  <thead>\n",
              "    <tr style=\"text-align: right;\">\n",
              "      <th></th>\n",
              "      <th>Year</th>\n",
              "      <th>DOY</th>\n",
              "      <th>NDVI</th>\n",
              "    </tr>\n",
              "  </thead>\n",
              "  <tbody>\n",
              "    <tr>\n",
              "      <th>0</th>\n",
              "      <td>2017</td>\n",
              "      <td>0</td>\n",
              "      <td>5196.0</td>\n",
              "    </tr>\n",
              "    <tr>\n",
              "      <th>1</th>\n",
              "      <td>2017</td>\n",
              "      <td>16</td>\n",
              "      <td>4657.0</td>\n",
              "    </tr>\n",
              "    <tr>\n",
              "      <th>2</th>\n",
              "      <td>2017</td>\n",
              "      <td>32</td>\n",
              "      <td>4515.0</td>\n",
              "    </tr>\n",
              "    <tr>\n",
              "      <th>3</th>\n",
              "      <td>2017</td>\n",
              "      <td>48</td>\n",
              "      <td>5131.0</td>\n",
              "    </tr>\n",
              "    <tr>\n",
              "      <th>4</th>\n",
              "      <td>2017</td>\n",
              "      <td>64</td>\n",
              "      <td>4973.0</td>\n",
              "    </tr>\n",
              "  </tbody>\n",
              "</table>\n",
              "</div>"
            ],
            "text/plain": [
              "   Year  DOY    NDVI\n",
              "0  2017    0  5196.0\n",
              "1  2017   16  4657.0\n",
              "2  2017   32  4515.0\n",
              "3  2017   48  5131.0\n",
              "4  2017   64  4973.0"
            ]
          },
          "metadata": {
            "tags": []
          },
          "execution_count": 47
        }
      ]
    },
    {
      "cell_type": "markdown",
      "metadata": {
        "id": "wIOh1UhGJvSz",
        "colab_type": "text"
      },
      "source": [
        "Remove the NDVI scaling and preview again."
      ]
    },
    {
      "cell_type": "code",
      "metadata": {
        "id": "9wIikfzeJ2Yw",
        "colab_type": "code",
        "outputId": "ab29ec0e-fd98-472d-e6f1-50705d9ead6e",
        "colab": {
          "base_uri": "https://localhost:8080/",
          "height": 206
        }
      },
      "source": [
        "snNdviDf['NDVI'] = snNdviDf['NDVI']/10000\n",
        "snNdviDf.head(5)"
      ],
      "execution_count": 48,
      "outputs": [
        {
          "output_type": "execute_result",
          "data": {
            "text/html": [
              "<div>\n",
              "<style scoped>\n",
              "    .dataframe tbody tr th:only-of-type {\n",
              "        vertical-align: middle;\n",
              "    }\n",
              "\n",
              "    .dataframe tbody tr th {\n",
              "        vertical-align: top;\n",
              "    }\n",
              "\n",
              "    .dataframe thead th {\n",
              "        text-align: right;\n",
              "    }\n",
              "</style>\n",
              "<table border=\"1\" class=\"dataframe\">\n",
              "  <thead>\n",
              "    <tr style=\"text-align: right;\">\n",
              "      <th></th>\n",
              "      <th>Year</th>\n",
              "      <th>DOY</th>\n",
              "      <th>NDVI</th>\n",
              "    </tr>\n",
              "  </thead>\n",
              "  <tbody>\n",
              "    <tr>\n",
              "      <th>0</th>\n",
              "      <td>2017</td>\n",
              "      <td>0</td>\n",
              "      <td>0.5196</td>\n",
              "    </tr>\n",
              "    <tr>\n",
              "      <th>1</th>\n",
              "      <td>2017</td>\n",
              "      <td>16</td>\n",
              "      <td>0.4657</td>\n",
              "    </tr>\n",
              "    <tr>\n",
              "      <th>2</th>\n",
              "      <td>2017</td>\n",
              "      <td>32</td>\n",
              "      <td>0.4515</td>\n",
              "    </tr>\n",
              "    <tr>\n",
              "      <th>3</th>\n",
              "      <td>2017</td>\n",
              "      <td>48</td>\n",
              "      <td>0.5131</td>\n",
              "    </tr>\n",
              "    <tr>\n",
              "      <th>4</th>\n",
              "      <td>2017</td>\n",
              "      <td>64</td>\n",
              "      <td>0.4973</td>\n",
              "    </tr>\n",
              "  </tbody>\n",
              "</table>\n",
              "</div>"
            ],
            "text/plain": [
              "   Year  DOY    NDVI\n",
              "0  2017    0  0.5196\n",
              "1  2017   16  0.4657\n",
              "2  2017   32  0.4515\n",
              "3  2017   48  0.5131\n",
              "4  2017   64  0.4973"
            ]
          },
          "metadata": {
            "tags": []
          },
          "execution_count": 48
        }
      ]
    },
    {
      "cell_type": "markdown",
      "metadata": {
        "id": "OnYEVl-d3t63",
        "colab_type": "text"
      },
      "source": [
        "### DOY line chart"
      ]
    },
    {
      "cell_type": "code",
      "metadata": {
        "id": "brVo8clu3v1s",
        "colab_type": "code",
        "outputId": "b3c33999-64ea-4380-a0c4-3c6990b04e54",
        "colab": {
          "base_uri": "https://localhost:8080/",
          "height": 376
        }
      },
      "source": [
        "alt.Chart(snNdviDf).mark_line().encode(\n",
        "  alt.X('DOY:O'),\n",
        "  alt.Y('NDVI:Q', scale=alt.Scale(domain=(0.1, 0.88))),\n",
        "  alt.Color('Year:O', scale=alt.Scale(scheme=\"magma\")),\n",
        "  tooltip=[\n",
        "    alt.Tooltip('Year:O', title='Year'),  \n",
        "    alt.Tooltip('DOY:O', title='DOY'),\n",
        "    alt.Tooltip('NDVI:Q', title='NDVI')\n",
        "  ]\n",
        ").interactive().properties(width=700, height=300)"
      ],
      "execution_count": 49,
      "outputs": [
        {
          "output_type": "execute_result",
          "data": {
            "text/plain": [
              "alt.Chart(...)"
            ],
            "text/html": [
              "\n",
              "<div id=\"altair-viz-367bfca6a5dd427496bb6227c430d554\"></div>\n",
              "<script type=\"text/javascript\">\n",
              "  (function(spec, embedOpt){\n",
              "    const outputDiv = document.getElementById(\"altair-viz-367bfca6a5dd427496bb6227c430d554\");\n",
              "    const paths = {\n",
              "      \"vega\": \"https://cdn.jsdelivr.net/npm//vega@5?noext\",\n",
              "      \"vega-lib\": \"https://cdn.jsdelivr.net/npm//vega-lib?noext\",\n",
              "      \"vega-lite\": \"https://cdn.jsdelivr.net/npm//vega-lite@4.0.2?noext\",\n",
              "      \"vega-embed\": \"https://cdn.jsdelivr.net/npm//vega-embed@6?noext\",\n",
              "    };\n",
              "\n",
              "    function loadScript(lib) {\n",
              "      return new Promise(function(resolve, reject) {\n",
              "        var s = document.createElement('script');\n",
              "        s.src = paths[lib];\n",
              "        s.async = true;\n",
              "        s.onload = () => resolve(paths[lib]);\n",
              "        s.onerror = () => reject(`Error loading script: ${paths[lib]}`);\n",
              "        document.getElementsByTagName(\"head\")[0].appendChild(s);\n",
              "      });\n",
              "    }\n",
              "\n",
              "    function showError(err) {\n",
              "      outputDiv.innerHTML = `<div class=\"error\" style=\"color:red;\">${err}</div>`;\n",
              "      throw err;\n",
              "    }\n",
              "\n",
              "    function displayChart(vegaEmbed) {\n",
              "      vegaEmbed(outputDiv, spec, embedOpt)\n",
              "        .catch(err => showError(`Javascript Error: ${err.message}<br>This usually means there's a typo in your chart specification. See the javascript console for the full traceback.`));\n",
              "    }\n",
              "\n",
              "    if(typeof define === \"function\" && define.amd) {\n",
              "      requirejs.config({paths});\n",
              "      require([\"vega-embed\"], displayChart, err => showError(`Error loading script: ${err.message}`));\n",
              "    } else if (typeof vegaEmbed === \"function\") {\n",
              "      displayChart(vegaEmbed);\n",
              "    } else {\n",
              "      loadScript(\"vega\")\n",
              "        .then(() => loadScript(\"vega-lite\"))\n",
              "        .then(() => loadScript(\"vega-embed\"))\n",
              "        .catch(showError)\n",
              "        .then(() => displayChart(vegaEmbed));\n",
              "    }\n",
              "  })({\"config\": {\"view\": {\"continuousWidth\": 400, \"continuousHeight\": 300}}, \"data\": {\"name\": \"data-69ecabf9e78747a53ad394043a2e2599\"}, \"mark\": \"line\", \"encoding\": {\"color\": {\"type\": \"ordinal\", \"field\": \"Year\", \"scale\": {\"scheme\": \"magma\"}}, \"tooltip\": [{\"type\": \"ordinal\", \"field\": \"Year\", \"title\": \"Year\"}, {\"type\": \"ordinal\", \"field\": \"DOY\", \"title\": \"DOY\"}, {\"type\": \"quantitative\", \"field\": \"NDVI\", \"title\": \"NDVI\"}], \"x\": {\"type\": \"ordinal\", \"field\": \"DOY\"}, \"y\": {\"type\": \"quantitative\", \"field\": \"NDVI\", \"scale\": {\"domain\": [0.1, 0.88]}}}, \"height\": 300, \"selection\": {\"selector007\": {\"type\": \"interval\", \"bind\": \"scales\", \"encodings\": [\"x\", \"y\"]}}, \"width\": 700, \"$schema\": \"https://vega.github.io/schema/vega-lite/v4.0.2.json\", \"datasets\": {\"data-69ecabf9e78747a53ad394043a2e2599\": [{\"Year\": 2017, \"DOY\": 0, \"NDVI\": 0.5196}, {\"Year\": 2017, \"DOY\": 16, \"NDVI\": 0.4657}, {\"Year\": 2017, \"DOY\": 32, \"NDVI\": 0.4515}, {\"Year\": 2017, \"DOY\": 48, \"NDVI\": 0.5131}, {\"Year\": 2017, \"DOY\": 64, \"NDVI\": 0.4973}, {\"Year\": 2017, \"DOY\": 80, \"NDVI\": 0.5077}, {\"Year\": 2017, \"DOY\": 96, \"NDVI\": 0.5863}, {\"Year\": 2017, \"DOY\": 112, \"NDVI\": 0.6493}, {\"Year\": 2017, \"DOY\": 128, \"NDVI\": 0.7249}, {\"Year\": 2017, \"DOY\": 144, \"NDVI\": 0.7819}, {\"Year\": 2017, \"DOY\": 160, \"NDVI\": 0.7607}, {\"Year\": 2017, \"DOY\": 176, \"NDVI\": 0.7691}, {\"Year\": 2017, \"DOY\": 192, \"NDVI\": 0.7815}, {\"Year\": 2017, \"DOY\": 208, \"NDVI\": 0.4246}, {\"Year\": 2017, \"DOY\": 224, \"NDVI\": 0.8169}, {\"Year\": 2017, \"DOY\": 240, \"NDVI\": 0.855}, {\"Year\": 2017, \"DOY\": 256, \"NDVI\": 0.8482}, {\"Year\": 2017, \"DOY\": 272, \"NDVI\": 0.7908}, {\"Year\": 2017, \"DOY\": 288, \"NDVI\": 0.7485}, {\"Year\": 2017, \"DOY\": 304, \"NDVI\": 0.6852}, {\"Year\": 2017, \"DOY\": 320, \"NDVI\": 0.6065}, {\"Year\": 2017, \"DOY\": 336, \"NDVI\": 0.5584}, {\"Year\": 2017, \"DOY\": 352, \"NDVI\": 0.5582}, {\"Year\": 2018, \"DOY\": 0, \"NDVI\": 0.5377}, {\"Year\": 2018, \"DOY\": 16, \"NDVI\": 0.4543}, {\"Year\": 2018, \"DOY\": 32, \"NDVI\": 0.4536}, {\"Year\": 2018, \"DOY\": 48, \"NDVI\": 0.4099}, {\"Year\": 2018, \"DOY\": 64, \"NDVI\": 0.4705}, {\"Year\": 2018, \"DOY\": 80, \"NDVI\": 0.5086}, {\"Year\": 2018, \"DOY\": 96, \"NDVI\": 0.6504}, {\"Year\": 2018, \"DOY\": 112, \"NDVI\": 0.8143}, {\"Year\": 2018, \"DOY\": 128, \"NDVI\": 0.7256}, {\"Year\": 2018, \"DOY\": 144, \"NDVI\": 0.7575}, {\"Year\": 2018, \"DOY\": 160, \"NDVI\": 0.7911}, {\"Year\": 2018, \"DOY\": 176, \"NDVI\": 0.7486}, {\"Year\": 2018, \"DOY\": 192, \"NDVI\": 0.8253}, {\"Year\": 2018, \"DOY\": 208, \"NDVI\": 0.841}, {\"Year\": 2018, \"DOY\": 224, \"NDVI\": 0.8287}, {\"Year\": 2018, \"DOY\": 240, \"NDVI\": 0.7748}, {\"Year\": 2018, \"DOY\": 256, \"NDVI\": 0.8258}, {\"Year\": 2018, \"DOY\": 272, \"NDVI\": 0.7727}, {\"Year\": 2018, \"DOY\": 288, \"NDVI\": 0.6945}, {\"Year\": 2018, \"DOY\": 304, \"NDVI\": 0.694}, {\"Year\": 2018, \"DOY\": 320, \"NDVI\": 0.6026}, {\"Year\": 2018, \"DOY\": 336, \"NDVI\": 0.5354}, {\"Year\": 2018, \"DOY\": 352, \"NDVI\": 0.5411}, {\"Year\": 2019, \"DOY\": 0, \"NDVI\": 0.486}, {\"Year\": 2019, \"DOY\": 16, \"NDVI\": 0.44}, {\"Year\": 2019, \"DOY\": 32, \"NDVI\": 0.4517}, {\"Year\": 2019, \"DOY\": 48, \"NDVI\": 0.4288}, {\"Year\": 2019, \"DOY\": 64, \"NDVI\": 0.4711}, {\"Year\": 2019, \"DOY\": 80, \"NDVI\": 0.5249}, {\"Year\": 2019, \"DOY\": 96, \"NDVI\": 0.6199}, {\"Year\": 2019, \"DOY\": 112, \"NDVI\": 0.7075}, {\"Year\": 2019, \"DOY\": 128, \"NDVI\": 0.7353}, {\"Year\": 2019, \"DOY\": 144, \"NDVI\": 0.7825}, {\"Year\": 2019, \"DOY\": 160, \"NDVI\": 0.7368}, {\"Year\": 2019, \"DOY\": 176, \"NDVI\": 0.803}, {\"Year\": 2019, \"DOY\": 192, \"NDVI\": 0.8149}, {\"Year\": 2019, \"DOY\": 208, \"NDVI\": 0.7924}, {\"Year\": 2019, \"DOY\": 224, \"NDVI\": 0.7708}, {\"Year\": 2019, \"DOY\": 240, \"NDVI\": 0.8032}, {\"Year\": 2019, \"DOY\": 256, \"NDVI\": 0.8151}, {\"Year\": 2019, \"DOY\": 272, \"NDVI\": 0.7693}, {\"Year\": 2019, \"DOY\": 288, \"NDVI\": 0.753}, {\"Year\": 2019, \"DOY\": 304, \"NDVI\": 0.7153}, {\"Year\": 2019, \"DOY\": 320, \"NDVI\": 0.6659}, {\"Year\": 2019, \"DOY\": 336, \"NDVI\": 0.5945}, {\"Year\": 2019, \"DOY\": 352, \"NDVI\": 0.5382}, {\"Year\": 2020, \"DOY\": 0, \"NDVI\": 0.4915}, {\"Year\": 2020, \"DOY\": 16, \"NDVI\": 0.4307}, {\"Year\": 2020, \"DOY\": 32, \"NDVI\": 0.455}, {\"Year\": 2020, \"DOY\": 48, \"NDVI\": 0.468}]}}, {\"mode\": \"vega-lite\"});\n",
              "</script>"
            ]
          },
          "metadata": {
            "tags": []
          },
          "execution_count": 49
        }
      ]
    },
    {
      "cell_type": "markdown",
      "metadata": {
        "id": "cAaoCg7fmcPc",
        "colab_type": "text"
      },
      "source": [
        "Reduce the plot to median and interquartile range."
      ]
    },
    {
      "cell_type": "code",
      "metadata": {
        "id": "oxAaJvwa8k1v",
        "colab_type": "code",
        "outputId": "3e80a41f-4464-4295-dc49-99c3cb894cfb",
        "colab": {
          "base_uri": "https://localhost:8080/",
          "height": 440
        }
      },
      "source": [
        "line = alt.Chart(snNdviDf).mark_line().encode(\n",
        "  x='DOY:O',\n",
        "  y='median(NDVI):Q',\n",
        ").interactive()\n",
        "\n",
        "band = alt.Chart(snNdviDf).mark_errorband(extent='iqr').encode(\n",
        "  x='DOY:O',\n",
        "  y=alt.Y('NDVI:Q', scale=alt.Scale(domain=(0.1, 0.7))),\n",
        ").interactive().properties(width=700, height=300)\n",
        "\n",
        "band + line"
      ],
      "execution_count": 50,
      "outputs": [
        {
          "output_type": "execute_result",
          "data": {
            "text/plain": [
              "alt.LayerChart(...)"
            ],
            "text/html": [
              "\n",
              "<div id=\"altair-viz-70825dbe20004b6192d5d656c2c8e2fa\"></div>\n",
              "<script type=\"text/javascript\">\n",
              "  (function(spec, embedOpt){\n",
              "    const outputDiv = document.getElementById(\"altair-viz-70825dbe20004b6192d5d656c2c8e2fa\");\n",
              "    const paths = {\n",
              "      \"vega\": \"https://cdn.jsdelivr.net/npm//vega@5?noext\",\n",
              "      \"vega-lib\": \"https://cdn.jsdelivr.net/npm//vega-lib?noext\",\n",
              "      \"vega-lite\": \"https://cdn.jsdelivr.net/npm//vega-lite@4.0.2?noext\",\n",
              "      \"vega-embed\": \"https://cdn.jsdelivr.net/npm//vega-embed@6?noext\",\n",
              "    };\n",
              "\n",
              "    function loadScript(lib) {\n",
              "      return new Promise(function(resolve, reject) {\n",
              "        var s = document.createElement('script');\n",
              "        s.src = paths[lib];\n",
              "        s.async = true;\n",
              "        s.onload = () => resolve(paths[lib]);\n",
              "        s.onerror = () => reject(`Error loading script: ${paths[lib]}`);\n",
              "        document.getElementsByTagName(\"head\")[0].appendChild(s);\n",
              "      });\n",
              "    }\n",
              "\n",
              "    function showError(err) {\n",
              "      outputDiv.innerHTML = `<div class=\"error\" style=\"color:red;\">${err}</div>`;\n",
              "      throw err;\n",
              "    }\n",
              "\n",
              "    function displayChart(vegaEmbed) {\n",
              "      vegaEmbed(outputDiv, spec, embedOpt)\n",
              "        .catch(err => showError(`Javascript Error: ${err.message}<br>This usually means there's a typo in your chart specification. See the javascript console for the full traceback.`));\n",
              "    }\n",
              "\n",
              "    if(typeof define === \"function\" && define.amd) {\n",
              "      requirejs.config({paths});\n",
              "      require([\"vega-embed\"], displayChart, err => showError(`Error loading script: ${err.message}`));\n",
              "    } else if (typeof vegaEmbed === \"function\") {\n",
              "      displayChart(vegaEmbed);\n",
              "    } else {\n",
              "      loadScript(\"vega\")\n",
              "        .then(() => loadScript(\"vega-lite\"))\n",
              "        .then(() => loadScript(\"vega-embed\"))\n",
              "        .catch(showError)\n",
              "        .then(() => displayChart(vegaEmbed));\n",
              "    }\n",
              "  })({\"config\": {\"view\": {\"continuousWidth\": 400, \"continuousHeight\": 300}}, \"layer\": [{\"mark\": {\"type\": \"errorband\", \"extent\": \"iqr\"}, \"encoding\": {\"x\": {\"type\": \"ordinal\", \"field\": \"DOY\"}, \"y\": {\"type\": \"quantitative\", \"field\": \"NDVI\", \"scale\": {\"domain\": [0.1, 0.7]}}}, \"height\": 300, \"selection\": {\"selector009\": {\"type\": \"interval\", \"bind\": \"scales\", \"encodings\": [\"x\", \"y\"]}}, \"width\": 700}, {\"mark\": \"line\", \"encoding\": {\"x\": {\"type\": \"ordinal\", \"field\": \"DOY\"}, \"y\": {\"type\": \"quantitative\", \"aggregate\": \"median\", \"field\": \"NDVI\"}}, \"selection\": {\"selector008\": {\"type\": \"interval\", \"bind\": \"scales\", \"encodings\": [\"x\", \"y\"]}}}], \"data\": {\"name\": \"data-69ecabf9e78747a53ad394043a2e2599\"}, \"$schema\": \"https://vega.github.io/schema/vega-lite/v4.0.2.json\", \"datasets\": {\"data-69ecabf9e78747a53ad394043a2e2599\": [{\"Year\": 2017, \"DOY\": 0, \"NDVI\": 0.5196}, {\"Year\": 2017, \"DOY\": 16, \"NDVI\": 0.4657}, {\"Year\": 2017, \"DOY\": 32, \"NDVI\": 0.4515}, {\"Year\": 2017, \"DOY\": 48, \"NDVI\": 0.5131}, {\"Year\": 2017, \"DOY\": 64, \"NDVI\": 0.4973}, {\"Year\": 2017, \"DOY\": 80, \"NDVI\": 0.5077}, {\"Year\": 2017, \"DOY\": 96, \"NDVI\": 0.5863}, {\"Year\": 2017, \"DOY\": 112, \"NDVI\": 0.6493}, {\"Year\": 2017, \"DOY\": 128, \"NDVI\": 0.7249}, {\"Year\": 2017, \"DOY\": 144, \"NDVI\": 0.7819}, {\"Year\": 2017, \"DOY\": 160, \"NDVI\": 0.7607}, {\"Year\": 2017, \"DOY\": 176, \"NDVI\": 0.7691}, {\"Year\": 2017, \"DOY\": 192, \"NDVI\": 0.7815}, {\"Year\": 2017, \"DOY\": 208, \"NDVI\": 0.4246}, {\"Year\": 2017, \"DOY\": 224, \"NDVI\": 0.8169}, {\"Year\": 2017, \"DOY\": 240, \"NDVI\": 0.855}, {\"Year\": 2017, \"DOY\": 256, \"NDVI\": 0.8482}, {\"Year\": 2017, \"DOY\": 272, \"NDVI\": 0.7908}, {\"Year\": 2017, \"DOY\": 288, \"NDVI\": 0.7485}, {\"Year\": 2017, \"DOY\": 304, \"NDVI\": 0.6852}, {\"Year\": 2017, \"DOY\": 320, \"NDVI\": 0.6065}, {\"Year\": 2017, \"DOY\": 336, \"NDVI\": 0.5584}, {\"Year\": 2017, \"DOY\": 352, \"NDVI\": 0.5582}, {\"Year\": 2018, \"DOY\": 0, \"NDVI\": 0.5377}, {\"Year\": 2018, \"DOY\": 16, \"NDVI\": 0.4543}, {\"Year\": 2018, \"DOY\": 32, \"NDVI\": 0.4536}, {\"Year\": 2018, \"DOY\": 48, \"NDVI\": 0.4099}, {\"Year\": 2018, \"DOY\": 64, \"NDVI\": 0.4705}, {\"Year\": 2018, \"DOY\": 80, \"NDVI\": 0.5086}, {\"Year\": 2018, \"DOY\": 96, \"NDVI\": 0.6504}, {\"Year\": 2018, \"DOY\": 112, \"NDVI\": 0.8143}, {\"Year\": 2018, \"DOY\": 128, \"NDVI\": 0.7256}, {\"Year\": 2018, \"DOY\": 144, \"NDVI\": 0.7575}, {\"Year\": 2018, \"DOY\": 160, \"NDVI\": 0.7911}, {\"Year\": 2018, \"DOY\": 176, \"NDVI\": 0.7486}, {\"Year\": 2018, \"DOY\": 192, \"NDVI\": 0.8253}, {\"Year\": 2018, \"DOY\": 208, \"NDVI\": 0.841}, {\"Year\": 2018, \"DOY\": 224, \"NDVI\": 0.8287}, {\"Year\": 2018, \"DOY\": 240, \"NDVI\": 0.7748}, {\"Year\": 2018, \"DOY\": 256, \"NDVI\": 0.8258}, {\"Year\": 2018, \"DOY\": 272, \"NDVI\": 0.7727}, {\"Year\": 2018, \"DOY\": 288, \"NDVI\": 0.6945}, {\"Year\": 2018, \"DOY\": 304, \"NDVI\": 0.694}, {\"Year\": 2018, \"DOY\": 320, \"NDVI\": 0.6026}, {\"Year\": 2018, \"DOY\": 336, \"NDVI\": 0.5354}, {\"Year\": 2018, \"DOY\": 352, \"NDVI\": 0.5411}, {\"Year\": 2019, \"DOY\": 0, \"NDVI\": 0.486}, {\"Year\": 2019, \"DOY\": 16, \"NDVI\": 0.44}, {\"Year\": 2019, \"DOY\": 32, \"NDVI\": 0.4517}, {\"Year\": 2019, \"DOY\": 48, \"NDVI\": 0.4288}, {\"Year\": 2019, \"DOY\": 64, \"NDVI\": 0.4711}, {\"Year\": 2019, \"DOY\": 80, \"NDVI\": 0.5249}, {\"Year\": 2019, \"DOY\": 96, \"NDVI\": 0.6199}, {\"Year\": 2019, \"DOY\": 112, \"NDVI\": 0.7075}, {\"Year\": 2019, \"DOY\": 128, \"NDVI\": 0.7353}, {\"Year\": 2019, \"DOY\": 144, \"NDVI\": 0.7825}, {\"Year\": 2019, \"DOY\": 160, \"NDVI\": 0.7368}, {\"Year\": 2019, \"DOY\": 176, \"NDVI\": 0.803}, {\"Year\": 2019, \"DOY\": 192, \"NDVI\": 0.8149}, {\"Year\": 2019, \"DOY\": 208, \"NDVI\": 0.7924}, {\"Year\": 2019, \"DOY\": 224, \"NDVI\": 0.7708}, {\"Year\": 2019, \"DOY\": 240, \"NDVI\": 0.8032}, {\"Year\": 2019, \"DOY\": 256, \"NDVI\": 0.8151}, {\"Year\": 2019, \"DOY\": 272, \"NDVI\": 0.7693}, {\"Year\": 2019, \"DOY\": 288, \"NDVI\": 0.753}, {\"Year\": 2019, \"DOY\": 304, \"NDVI\": 0.7153}, {\"Year\": 2019, \"DOY\": 320, \"NDVI\": 0.6659}, {\"Year\": 2019, \"DOY\": 336, \"NDVI\": 0.5945}, {\"Year\": 2019, \"DOY\": 352, \"NDVI\": 0.5382}, {\"Year\": 2020, \"DOY\": 0, \"NDVI\": 0.4915}, {\"Year\": 2020, \"DOY\": 16, \"NDVI\": 0.4307}, {\"Year\": 2020, \"DOY\": 32, \"NDVI\": 0.455}, {\"Year\": 2020, \"DOY\": 48, \"NDVI\": 0.468}]}}, {\"mode\": \"vega-lite\"});\n",
              "</script>"
            ]
          },
          "metadata": {
            "tags": []
          },
          "execution_count": 50
        }
      ]
    },
    {
      "cell_type": "markdown",
      "metadata": {
        "id": "ZG_muCDTKmFP",
        "colab_type": "text"
      },
      "source": [
        "## Relationship between PDSI and NDVI\n",
        "\n",
        "A scatterplot is a good way to visualize the relationship between two variables. The x variable will be PDSI and the y variable will be NDVI. To create this plot both variables must exist in the same dataframe. Each row will be an observation in time and two columns for corresponding PDSI and NDVI observations. Right now PDSI and NDVI are in two different dataframes, the first step is to merge them. \n",
        "\n",
        "1. Subset the data in the above plot where summer NDVI declines and then increases. Use the cursor tooltip to identify start and end day-of-year for this period.\n",
        "2. Reduce the values within the year by the minimum observation."
      ]
    },
    {
      "cell_type": "code",
      "metadata": {
        "id": "zVQnQ0w_jJFc",
        "colab_type": "code",
        "colab": {}
      },
      "source": [
        ""
      ],
      "execution_count": 0,
      "outputs": []
    },
    {
      "cell_type": "code",
      "metadata": {
        "colab_type": "code",
        "id": "p8_5AAeMjJhH",
        "colab": {}
      },
      "source": [
        "ndvi = ee.ImageCollection('COPERNICUS/S2').filterDate('2017-01-01', '2020-03-25').select('NDVI')\n",
        "\n",
        "reReArgs['scale'] = 1000\n",
        "snNdviList = getReReList(ndvi, ['Year', 'DOY', 'NDVI'])"
      ],
      "execution_count": 0,
      "outputs": []
    },
    {
      "cell_type": "code",
      "metadata": {
        "id": "pMRpUId911I2",
        "colab_type": "code",
        "colab": {}
      },
      "source": [
        "ndviDoy = [224, 272] \n",
        "\n",
        "snNdviDfSub = snNdviDf[\n",
        "  (snNdviDf['DOY'] >= ndviDoy[0]) & (snNdviDf['DOY'] <= ndviDoy[1])\n",
        "]\n",
        "\n",
        "snNdviDfSub = snNdviDfSub.groupby('Year').agg('min')"
      ],
      "execution_count": 0,
      "outputs": []
    },
    {
      "cell_type": "markdown",
      "metadata": {
        "id": "LF3Y76torIae",
        "colab_type": "text"
      },
      "source": [
        "3. Subset the PDSI data to include all days prior to the end of the above defined NDVI DOY range.\n",
        "4. Reduce the values within a year by mean of observations."
      ]
    },
    {
      "cell_type": "code",
      "metadata": {
        "id": "ge9xtTU5ayeJ",
        "colab_type": "code",
        "colab": {}
      },
      "source": [
        "pdsiDoy = [1, 272]\n",
        "\n",
        "snPdsiDfSub = snPdsiDf[\n",
        "  (snPdsiDf['DOY'] >= pdsiDoy[0]) & (snPdsiDf['DOY'] <= pdsiDoy[1])\n",
        "]\n",
        "\n",
        "snPdsiDfSub = snPdsiDfSub.groupby('Year').agg('mean')"
      ],
      "execution_count": 0,
      "outputs": []
    },
    {
      "cell_type": "markdown",
      "metadata": {
        "id": "CdBx1sLsbIrB",
        "colab_type": "text"
      },
      "source": [
        "5. Perform a join on 'Year' to combine the two dataframes. "
      ]
    },
    {
      "cell_type": "code",
      "metadata": {
        "id": "myucC6MxbHxt",
        "colab_type": "code",
        "outputId": "357d32b8-a30e-4710-f077-023687c25704",
        "colab": {
          "base_uri": "https://localhost:8080/",
          "height": 193
        }
      },
      "source": [
        "ndviPdsiCombo = pd.merge(snNdviDfSub, snPdsiDfSub, how='left', on='Year') \\\n",
        "  .drop(columns=['DOY_x', 'DOY_y', 'Month']) \\\n",
        "  .reset_index()\n",
        "\n",
        "ndviPdsiCombo.head(5)"
      ],
      "execution_count": 0,
      "outputs": [
        {
          "output_type": "execute_result",
          "data": {
            "application/vnd.google.colaboratory.module+javascript": "\n      import \"https://ssl.gstatic.com/colaboratory/data_table/9e554b27bdd509f3/data_table.js\";\n\n      window.createDataTable({\n        data: [[{\n            'v': 0,\n            'f': \"0\",\n        },\n{\n            'v': 2000,\n            'f': \"2000\",\n        },\n{\n            'v': 0.5034900881243579,\n            'f': \"0.5034900881243579\",\n        },\n{\n            'v': -0.8956350772564807,\n            'f': \"-0.8956350772564807\",\n        }],\n [{\n            'v': 1,\n            'f': \"1\",\n        },\n{\n            'v': 2001,\n            'f': \"2001\",\n        },\n{\n            'v': 0.4934615281954359,\n            'f': \"0.4934615281954359\",\n        },\n{\n            'v': -1.5448865836605246,\n            'f': \"-1.5448865836605246\",\n        }],\n [{\n            'v': 2,\n            'f': \"2\",\n        },\n{\n            'v': 2002,\n            'f': \"2002\",\n        },\n{\n            'v': 0.4959064221966936,\n            'f': \"0.4959064221966936\",\n        },\n{\n            'v': -2.0628678639259954,\n            'f': \"-2.0628678639259954\",\n        }],\n [{\n            'v': 3,\n            'f': \"3\",\n        },\n{\n            'v': 2003,\n            'f': \"2003\",\n        },\n{\n            'v': 0.5159946532992752,\n            'f': \"0.5159946532992752\",\n        },\n{\n            'v': -0.0672301779144029,\n            'f': \"-0.0672301779144029\",\n        }],\n [{\n            'v': 4,\n            'f': \"4\",\n        },\n{\n            'v': 2004,\n            'f': \"2004\",\n        },\n{\n            'v': 0.4944451791588809,\n            'f': \"0.4944451791588809\",\n        },\n{\n            'v': -1.9309095890784085,\n            'f': \"-1.9309095890784085\",\n        }]],\n        columns: [[\"number\", \"index\"], [\"number\", \"Year\"], [\"number\", \"NDVI\"], [\"number\", \"PDSI\"]],\n        columnOptions: [{\"width\": \"1px\", \"className\": \"index_column\"}],\n        rowsPerPage: 25,\n        helpUrl: \"https://colab.research.google.com/notebooks/data_table.ipynb\",\n      });\n    ",
            "text/html": [
              "<div>\n",
              "<style scoped>\n",
              "    .dataframe tbody tr th:only-of-type {\n",
              "        vertical-align: middle;\n",
              "    }\n",
              "\n",
              "    .dataframe tbody tr th {\n",
              "        vertical-align: top;\n",
              "    }\n",
              "\n",
              "    .dataframe thead th {\n",
              "        text-align: right;\n",
              "    }\n",
              "</style>\n",
              "<table border=\"1\" class=\"dataframe\">\n",
              "  <thead>\n",
              "    <tr style=\"text-align: right;\">\n",
              "      <th></th>\n",
              "      <th>Year</th>\n",
              "      <th>NDVI</th>\n",
              "      <th>PDSI</th>\n",
              "    </tr>\n",
              "  </thead>\n",
              "  <tbody>\n",
              "    <tr>\n",
              "      <th>0</th>\n",
              "      <td>2000</td>\n",
              "      <td>0.503490</td>\n",
              "      <td>-0.895635</td>\n",
              "    </tr>\n",
              "    <tr>\n",
              "      <th>1</th>\n",
              "      <td>2001</td>\n",
              "      <td>0.493462</td>\n",
              "      <td>-1.544887</td>\n",
              "    </tr>\n",
              "    <tr>\n",
              "      <th>2</th>\n",
              "      <td>2002</td>\n",
              "      <td>0.495906</td>\n",
              "      <td>-2.062868</td>\n",
              "    </tr>\n",
              "    <tr>\n",
              "      <th>3</th>\n",
              "      <td>2003</td>\n",
              "      <td>0.515995</td>\n",
              "      <td>-0.067230</td>\n",
              "    </tr>\n",
              "    <tr>\n",
              "      <th>4</th>\n",
              "      <td>2004</td>\n",
              "      <td>0.494445</td>\n",
              "      <td>-1.930910</td>\n",
              "    </tr>\n",
              "  </tbody>\n",
              "</table>\n",
              "</div>"
            ],
            "text/plain": [
              "   Year      NDVI      PDSI\n",
              "0  2000  0.503490 -0.895635\n",
              "1  2001  0.493462 -1.544887\n",
              "2  2002  0.495906 -2.062868\n",
              "3  2003  0.515995 -0.067230\n",
              "4  2004  0.494445 -1.930910"
            ]
          },
          "metadata": {
            "tags": []
          },
          "execution_count": 68
        }
      ]
    },
    {
      "cell_type": "markdown",
      "metadata": {
        "id": "SfHPBeA0Nf8v",
        "colab_type": "text"
      },
      "source": [
        "6. Add a line of best fit between PDSI and NDVI. Including a line of best fit can be a helpful visual aid. Here, a 1D polynomial is fit throught xy point cloud defined by corresponding NDVI and PDSI observations. The resulting\n",
        "fit is added to the dataframe as a new column `Fit`."
      ]
    },
    {
      "cell_type": "code",
      "metadata": {
        "id": "K6w8Kqj5Wk34",
        "colab_type": "code",
        "outputId": "19de10f0-2947-4f51-e709-cc41ff6e8694",
        "colab": {
          "base_uri": "https://localhost:8080/",
          "height": 193
        }
      },
      "source": [
        "ndviPdsiCombo['Fit'] = np.poly1d(np.polyfit(ndviPdsiCombo['PDSI'], ndviPdsiCombo['NDVI'], 1))(ndviPdsiCombo['PDSI'])\n",
        "ndviPdsiCombo.head(5)"
      ],
      "execution_count": 0,
      "outputs": [
        {
          "output_type": "execute_result",
          "data": {
            "application/vnd.google.colaboratory.module+javascript": "\n      import \"https://ssl.gstatic.com/colaboratory/data_table/9e554b27bdd509f3/data_table.js\";\n\n      window.createDataTable({\n        data: [[{\n            'v': 0,\n            'f': \"0\",\n        },\n{\n            'v': 2000,\n            'f': \"2000\",\n        },\n{\n            'v': 0.5034900881243579,\n            'f': \"0.5034900881243579\",\n        },\n{\n            'v': -0.8956350772564807,\n            'f': \"-0.8956350772564807\",\n        },\n{\n            'v': 0.5038803488350799,\n            'f': \"0.5038803488350799\",\n        }],\n [{\n            'v': 1,\n            'f': \"1\",\n        },\n{\n            'v': 2001,\n            'f': \"2001\",\n        },\n{\n            'v': 0.4934615281954359,\n            'f': \"0.4934615281954359\",\n        },\n{\n            'v': -1.5448865836605246,\n            'f': \"-1.5448865836605246\",\n        },\n{\n            'v': 0.5002443963452433,\n            'f': \"0.5002443963452433\",\n        }],\n [{\n            'v': 2,\n            'f': \"2\",\n        },\n{\n            'v': 2002,\n            'f': \"2002\",\n        },\n{\n            'v': 0.4959064221966936,\n            'f': \"0.4959064221966936\",\n        },\n{\n            'v': -2.0628678639259954,\n            'f': \"-2.0628678639259954\",\n        },\n{\n            'v': 0.49734358624762615,\n            'f': \"0.49734358624762615\",\n        }],\n [{\n            'v': 3,\n            'f': \"3\",\n        },\n{\n            'v': 2003,\n            'f': \"2003\",\n        },\n{\n            'v': 0.5159946532992752,\n            'f': \"0.5159946532992752\",\n        },\n{\n            'v': -0.0672301779144029,\n            'f': \"-0.0672301779144029\",\n        },\n{\n            'v': 0.5085196000753862,\n            'f': \"0.5085196000753862\",\n        }],\n [{\n            'v': 4,\n            'f': \"4\",\n        },\n{\n            'v': 2004,\n            'f': \"2004\",\n        },\n{\n            'v': 0.4944451791588809,\n            'f': \"0.4944451791588809\",\n        },\n{\n            'v': -1.9309095890784085,\n            'f': \"-1.9309095890784085\",\n        },\n{\n            'v': 0.4980825818652783,\n            'f': \"0.4980825818652783\",\n        }]],\n        columns: [[\"number\", \"index\"], [\"number\", \"Year\"], [\"number\", \"NDVI\"], [\"number\", \"PDSI\"], [\"number\", \"Fit\"]],\n        columnOptions: [{\"width\": \"1px\", \"className\": \"index_column\"}],\n        rowsPerPage: 25,\n        helpUrl: \"https://colab.research.google.com/notebooks/data_table.ipynb\",\n      });\n    ",
            "text/html": [
              "<div>\n",
              "<style scoped>\n",
              "    .dataframe tbody tr th:only-of-type {\n",
              "        vertical-align: middle;\n",
              "    }\n",
              "\n",
              "    .dataframe tbody tr th {\n",
              "        vertical-align: top;\n",
              "    }\n",
              "\n",
              "    .dataframe thead th {\n",
              "        text-align: right;\n",
              "    }\n",
              "</style>\n",
              "<table border=\"1\" class=\"dataframe\">\n",
              "  <thead>\n",
              "    <tr style=\"text-align: right;\">\n",
              "      <th></th>\n",
              "      <th>Year</th>\n",
              "      <th>NDVI</th>\n",
              "      <th>PDSI</th>\n",
              "      <th>Fit</th>\n",
              "    </tr>\n",
              "  </thead>\n",
              "  <tbody>\n",
              "    <tr>\n",
              "      <th>0</th>\n",
              "      <td>2000</td>\n",
              "      <td>0.503490</td>\n",
              "      <td>-0.895635</td>\n",
              "      <td>0.503880</td>\n",
              "    </tr>\n",
              "    <tr>\n",
              "      <th>1</th>\n",
              "      <td>2001</td>\n",
              "      <td>0.493462</td>\n",
              "      <td>-1.544887</td>\n",
              "      <td>0.500244</td>\n",
              "    </tr>\n",
              "    <tr>\n",
              "      <th>2</th>\n",
              "      <td>2002</td>\n",
              "      <td>0.495906</td>\n",
              "      <td>-2.062868</td>\n",
              "      <td>0.497344</td>\n",
              "    </tr>\n",
              "    <tr>\n",
              "      <th>3</th>\n",
              "      <td>2003</td>\n",
              "      <td>0.515995</td>\n",
              "      <td>-0.067230</td>\n",
              "      <td>0.508520</td>\n",
              "    </tr>\n",
              "    <tr>\n",
              "      <th>4</th>\n",
              "      <td>2004</td>\n",
              "      <td>0.494445</td>\n",
              "      <td>-1.930910</td>\n",
              "      <td>0.498083</td>\n",
              "    </tr>\n",
              "  </tbody>\n",
              "</table>\n",
              "</div>"
            ],
            "text/plain": [
              "   Year      NDVI      PDSI       Fit\n",
              "0  2000  0.503490 -0.895635  0.503880\n",
              "1  2001  0.493462 -1.544887  0.500244\n",
              "2  2002  0.495906 -2.062868  0.497344\n",
              "3  2003  0.515995 -0.067230  0.508520\n",
              "4  2004  0.494445 -1.930910  0.498083"
            ]
          },
          "metadata": {
            "tags": []
          },
          "execution_count": 69
        }
      ]
    },
    {
      "cell_type": "markdown",
      "metadata": {
        "id": "KSpWaIhwN6k9",
        "colab_type": "text"
      },
      "source": [
        "The dataframe is ready for plotting. Since this plot includes points and a line of best fit, two charts need to be created, one for each, and the combined."
      ]
    },
    {
      "cell_type": "code",
      "metadata": {
        "id": "LCBImjDdCuZx",
        "colab_type": "code",
        "outputId": "30128abe-6513-4a3c-a1dd-e1edaff4e6b7",
        "colab": {
          "base_uri": "https://localhost:8080/",
          "height": 367
        }
      },
      "source": [
        "# Point chart.\n",
        "points = alt.Chart(ndviPdsiCombo).mark_circle(size=60).encode(\n",
        "  x=alt.X('PDSI:Q', scale=alt.Scale(domain=(-5, 5))),\n",
        "  y=alt.Y('NDVI:Q', scale=alt.Scale(domain=(0.4, 0.6))),\n",
        "  color=alt.Color('Year:O', scale=alt.Scale(scheme='magma')),\n",
        "  tooltip=['Year', 'PDSI', 'NDVI']\n",
        ").interactive()\n",
        "\n",
        "# Line chart.\n",
        "fit = alt.Chart(ndviPdsiCombo).mark_line().encode(\n",
        "  x=alt.X('PDSI:Q', scale=alt.Scale(domain=(-5, 5))),\n",
        "  y=alt.Y('Fit:Q', scale=alt.Scale(domain=(0.4, 0.6))),\n",
        "  color=alt.value('#808080')\n",
        ").properties(width=700, height=300)\n",
        "\n",
        "# Combine charts.\n",
        "fit + points "
      ],
      "execution_count": 0,
      "outputs": [
        {
          "output_type": "execute_result",
          "data": {
            "text/plain": [
              "alt.LayerChart(...)"
            ],
            "text/html": [
              "<!DOCTYPE html>\n",
              "<html>\n",
              "<head>\n",
              "  <style>\n",
              "    .vega-actions a {\n",
              "        margin-right: 12px;\n",
              "        color: #757575;\n",
              "        font-weight: normal;\n",
              "        font-size: 13px;\n",
              "    }\n",
              "    .error {\n",
              "        color: red;\n",
              "    }\n",
              "  </style>\n",
              "  <script type=\"text/javascript\" src=\"https://cdn.jsdelivr.net/npm//vega@5\"></script>\n",
              "  <script type=\"text/javascript\" src=\"https://cdn.jsdelivr.net/npm//vega-lite@3.4.0\"></script>\n",
              "  <script type=\"text/javascript\" src=\"https://cdn.jsdelivr.net/npm//vega-embed@4\"></script>\n",
              "</head>\n",
              "<body>\n",
              "  <div id=\"altair-viz\"></div>\n",
              "  <script>\n",
              "    (function(vegaEmbed) {\n",
              "      var spec = {\"config\": {\"view\": {\"width\": 400, \"height\": 300}, \"mark\": {\"tooltip\": null}}, \"layer\": [{\"mark\": \"line\", \"encoding\": {\"color\": {\"value\": \"#808080\"}, \"x\": {\"type\": \"quantitative\", \"field\": \"PDSI\", \"scale\": {\"domain\": [-5, 5]}}, \"y\": {\"type\": \"quantitative\", \"field\": \"Fit\", \"scale\": {\"domain\": [0.4, 0.6]}}}, \"height\": 300, \"width\": 700}, {\"mark\": {\"type\": \"circle\", \"size\": 60}, \"encoding\": {\"color\": {\"type\": \"ordinal\", \"field\": \"Year\", \"scale\": {\"scheme\": \"magma\"}}, \"tooltip\": [{\"type\": \"quantitative\", \"field\": \"Year\"}, {\"type\": \"quantitative\", \"field\": \"PDSI\"}, {\"type\": \"quantitative\", \"field\": \"NDVI\"}], \"x\": {\"type\": \"quantitative\", \"field\": \"PDSI\", \"scale\": {\"domain\": [-5, 5]}}, \"y\": {\"type\": \"quantitative\", \"field\": \"NDVI\", \"scale\": {\"domain\": [0.4, 0.6]}}}, \"selection\": {\"selector013\": {\"type\": \"interval\", \"bind\": \"scales\", \"encodings\": [\"x\", \"y\"]}}}], \"data\": {\"name\": \"data-57b7a1005611a4a130723cb07d94e018\"}, \"$schema\": \"https://vega.github.io/schema/vega-lite/v3.4.0.json\", \"datasets\": {\"data-57b7a1005611a4a130723cb07d94e018\": [{\"Year\": 2000, \"NDVI\": 0.5034900881243579, \"PDSI\": -0.8956350772564807, \"Fit\": 0.5038803488350799}, {\"Year\": 2001, \"NDVI\": 0.4934615281954359, \"PDSI\": -1.5448865836605246, \"Fit\": 0.5002443963452433}, {\"Year\": 2002, \"NDVI\": 0.4959064221966936, \"PDSI\": -2.0628678639259954, \"Fit\": 0.49734358624762615}, {\"Year\": 2003, \"NDVI\": 0.5159946532992752, \"PDSI\": -0.0672301779144029, \"Fit\": 0.5085196000753862}, {\"Year\": 2004, \"NDVI\": 0.4944451791588809, \"PDSI\": -1.9309095890784085, \"Fit\": 0.4980825818652783}, {\"Year\": 2005, \"NDVI\": 0.5212108052399315, \"PDSI\": 1.7197698187701038, \"Fit\": 0.5185271965510108}, {\"Year\": 2006, \"NDVI\": 0.5130439135833019, \"PDSI\": 2.075917334452181, \"Fit\": 0.5205217016597714}, {\"Year\": 2007, \"NDVI\": 0.49993488819728654, \"PDSI\": -2.441583686349524, \"Fit\": 0.49522269361372534}, {\"Year\": 2008, \"NDVI\": 0.49618038613847304, \"PDSI\": -2.7413396297806716, \"Fit\": 0.4935439938215626}, {\"Year\": 2009, \"NDVI\": 0.5085632339650334, \"PDSI\": -2.241009855216064, \"Fit\": 0.49634595157079187}, {\"Year\": 2010, \"NDVI\": 0.5199191244076561, \"PDSI\": 0.027407368983415798, \"Fit\": 0.5090495913359087}, {\"Year\": 2011, \"NDVI\": 0.5361043064431938, \"PDSI\": 2.865029846459068, \"Fit\": 0.5249409068129237}, {\"Year\": 2012, \"NDVI\": 0.5115548120506692, \"PDSI\": -0.7651692911053284, \"Fit\": 0.5046109861848831}, {\"Year\": 2013, \"NDVI\": 0.4975673707959825, \"PDSI\": -2.455352838560726, \"Fit\": 0.4951455833062845}, {\"Year\": 2014, \"NDVI\": 0.48403239130063186, \"PDSI\": -3.4379335053357343, \"Fit\": 0.48964291356029765}, {\"Year\": 2015, \"NDVI\": 0.4886755670471758, \"PDSI\": -3.1410956064307354, \"Fit\": 0.491305271655667}, {\"Year\": 2016, \"NDVI\": 0.48537502051706927, \"PDSI\": -1.504894807732079, \"Fit\": 0.5004683591636977}, {\"Year\": 2017, \"NDVI\": 0.5055058262930319, \"PDSI\": 2.646216622933774, \"Fit\": 0.5237155042115613}, {\"Year\": 2018, \"NDVI\": 0.49538625682629733, \"PDSI\": -0.7166321957046005, \"Fit\": 0.5048828046883921}, {\"Year\": 2019, \"NDVI\": 0.5224891707601625, \"PDSI\": 0.7054843778858989, \"Fit\": 0.5128469730354525}]}};\n",
              "      var embedOpt = {\"mode\": \"vega-lite\"};\n",
              "\n",
              "      function showError(el, error){\n",
              "          el.innerHTML = ('<div class=\"error\" style=\"color:red;\">'\n",
              "                          + '<p>JavaScript Error: ' + error.message + '</p>'\n",
              "                          + \"<p>This usually means there's a typo in your chart specification. \"\n",
              "                          + \"See the javascript console for the full traceback.</p>\"\n",
              "                          + '</div>');\n",
              "          throw error;\n",
              "      }\n",
              "      const el = document.getElementById('altair-viz');\n",
              "      vegaEmbed(\"#altair-viz\", spec, embedOpt)\n",
              "        .catch(error => showError(el, error));\n",
              "    })(vegaEmbed);\n",
              "\n",
              "  </script>\n",
              "</body>\n",
              "</html>"
            ]
          },
          "metadata": {
            "tags": []
          },
          "execution_count": 70
        }
      ]
    },
    {
      "cell_type": "markdown",
      "metadata": {
        "id": "DucYGPjXONyg",
        "colab_type": "text"
      },
      "source": [
        "As you can see there seems to be some degree of positive correlation between PDSI and NDVI. Some of the greatest outliers are 2016, 2017, 2018 - the three years following recovery from the long drought."
      ]
    },
    {
      "cell_type": "markdown",
      "metadata": {
        "id": "Xb5kyCMmcJYQ",
        "colab_type": "text"
      },
      "source": [
        "## Patch-level vegetation change\n",
        "\n",
        "At a course regional scale there appears to be a relationship between drought and NDVI. This section will look more closely at effects of drought on vegetation at a patch level. Here, a Landsat time series collection is created for the period 1984-2019 to provide greater temporal context for change."
      ]
    },
    {
      "cell_type": "markdown",
      "metadata": {
        "id": "LPSzZWf_uMzE",
        "colab_type": "text"
      },
      "source": [
        "### Find a point of interest\n",
        "\n",
        "Zoom to a location and click the map to list the latitude and longitude."
      ]
    },
    {
      "cell_type": "code",
      "metadata": {
        "id": "jeYO1qmfb3jg",
        "colab_type": "code",
        "outputId": "c28bf16f-b47e-4739-dc3a-ff8b7d93a9ac",
        "colab": {
          "base_uri": "https://localhost:8080/",
          "height": 558
        }
      },
      "source": [
        "sn = bhutan_sites.filter(ee.Filter.eq('description', 'site3'))\n",
        "\n",
        "\n",
        "# Import the Folium library.\n",
        "import folium\n",
        "\n",
        "# Set visualization parameters.\n",
        "visParams = {'min':0, 'max':7000}\n",
        "\n",
        "# Create a folium map object.\n",
        "site_centroid = sn.geometry().centroid().getInfo()\n",
        "site_lon = site_centroid['coordinates'][0]\n",
        "site_lat = site_centroid['coordinates'][1]\n",
        "fMap = folium.Map(\n",
        "  location=[site_lat, site_lon],\n",
        "  tiles='https://mt.google.com/vt/lyrs=s&x={x}&y={y}&z={z}',\n",
        "  attr='Map Data: Google',\n",
        "  zoom_start=17,\n",
        "  height=500,\n",
        "  width=700\n",
        ")\n",
        "\n",
        "# Add AOI to map.\n",
        "folium.GeoJson(\n",
        "  sn.geometry().getInfo(),\n",
        "  name='geojson',\n",
        "  style_function=lambda x: {'fillColor': '#00000000', 'color': '#FFFFFF'},\n",
        ").add_to(fMap)\n",
        "\n",
        "# Add a lat lon popup.\n",
        "folium.LatLngPopup().add_to(fMap)\n",
        "\n",
        "# Display the map.\n",
        "display(fMap)"
      ],
      "execution_count": 184,
      "outputs": [
        {
          "output_type": "display_data",
          "data": {
            "text/html": [
              "<div style=\"width:100%;\"><div style=\"position:relative;width:100%;height:0;padding-bottom:60%;\"><iframe src=\"about:blank\" style=\"position:absolute;width:100%;height:100%;left:0;top:0;border:none !important;\" data-html=PCFET0NUWVBFIGh0bWw+CjxoZWFkPiAgICAKICAgIDxtZXRhIGh0dHAtZXF1aXY9ImNvbnRlbnQtdHlwZSIgY29udGVudD0idGV4dC9odG1sOyBjaGFyc2V0PVVURi04IiAvPgogICAgPHNjcmlwdD5MX1BSRUZFUl9DQU5WQVM9ZmFsc2U7IExfTk9fVE9VQ0g9ZmFsc2U7IExfRElTQUJMRV8zRD1mYWxzZTs8L3NjcmlwdD4KICAgIDxzY3JpcHQgc3JjPSJodHRwczovL2Nkbi5qc2RlbGl2ci5uZXQvbnBtL2xlYWZsZXRAMS40LjAvZGlzdC9sZWFmbGV0LmpzIj48L3NjcmlwdD4KICAgIDxzY3JpcHQgc3JjPSJodHRwczovL2NvZGUuanF1ZXJ5LmNvbS9qcXVlcnktMS4xMi40Lm1pbi5qcyI+PC9zY3JpcHQ+CiAgICA8c2NyaXB0IHNyYz0iaHR0cHM6Ly9tYXhjZG4uYm9vdHN0cmFwY2RuLmNvbS9ib290c3RyYXAvMy4yLjAvanMvYm9vdHN0cmFwLm1pbi5qcyI+PC9zY3JpcHQ+CiAgICA8c2NyaXB0IHNyYz0iaHR0cHM6Ly9jZG5qcy5jbG91ZGZsYXJlLmNvbS9hamF4L2xpYnMvTGVhZmxldC5hd2Vzb21lLW1hcmtlcnMvMi4wLjIvbGVhZmxldC5hd2Vzb21lLW1hcmtlcnMuanMiPjwvc2NyaXB0PgogICAgPGxpbmsgcmVsPSJzdHlsZXNoZWV0IiBocmVmPSJodHRwczovL2Nkbi5qc2RlbGl2ci5uZXQvbnBtL2xlYWZsZXRAMS40LjAvZGlzdC9sZWFmbGV0LmNzcyIvPgogICAgPGxpbmsgcmVsPSJzdHlsZXNoZWV0IiBocmVmPSJodHRwczovL21heGNkbi5ib290c3RyYXBjZG4uY29tL2Jvb3RzdHJhcC8zLjIuMC9jc3MvYm9vdHN0cmFwLm1pbi5jc3MiLz4KICAgIDxsaW5rIHJlbD0ic3R5bGVzaGVldCIgaHJlZj0iaHR0cHM6Ly9tYXhjZG4uYm9vdHN0cmFwY2RuLmNvbS9ib290c3RyYXAvMy4yLjAvY3NzL2Jvb3RzdHJhcC10aGVtZS5taW4uY3NzIi8+CiAgICA8bGluayByZWw9InN0eWxlc2hlZXQiIGhyZWY9Imh0dHBzOi8vbWF4Y2RuLmJvb3RzdHJhcGNkbi5jb20vZm9udC1hd2Vzb21lLzQuNi4zL2Nzcy9mb250LWF3ZXNvbWUubWluLmNzcyIvPgogICAgPGxpbmsgcmVsPSJzdHlsZXNoZWV0IiBocmVmPSJodHRwczovL2NkbmpzLmNsb3VkZmxhcmUuY29tL2FqYXgvbGlicy9MZWFmbGV0LmF3ZXNvbWUtbWFya2Vycy8yLjAuMi9sZWFmbGV0LmF3ZXNvbWUtbWFya2Vycy5jc3MiLz4KICAgIDxsaW5rIHJlbD0ic3R5bGVzaGVldCIgaHJlZj0iaHR0cHM6Ly9yYXdjZG4uZ2l0aGFjay5jb20vcHl0aG9uLXZpc3VhbGl6YXRpb24vZm9saXVtL21hc3Rlci9mb2xpdW0vdGVtcGxhdGVzL2xlYWZsZXQuYXdlc29tZS5yb3RhdGUuY3NzIi8+CiAgICA8c3R5bGU+aHRtbCwgYm9keSB7d2lkdGg6IDEwMCU7aGVpZ2h0OiAxMDAlO21hcmdpbjogMDtwYWRkaW5nOiAwO308L3N0eWxlPgogICAgPHN0eWxlPiNtYXAge3Bvc2l0aW9uOmFic29sdXRlO3RvcDowO2JvdHRvbTowO3JpZ2h0OjA7bGVmdDowO308L3N0eWxlPgogICAgCiAgICA8bWV0YSBuYW1lPSJ2aWV3cG9ydCIgY29udGVudD0id2lkdGg9ZGV2aWNlLXdpZHRoLAogICAgICAgIGluaXRpYWwtc2NhbGU9MS4wLCBtYXhpbXVtLXNjYWxlPTEuMCwgdXNlci1zY2FsYWJsZT1ubyIgLz4KICAgIDxzdHlsZT4jbWFwXzAzNjJiYzBhNTg1ZTQwMzVhY2UxNWQyNjFjZThlZTk1IHsKICAgICAgICBwb3NpdGlvbjogcmVsYXRpdmU7CiAgICAgICAgd2lkdGg6IDcwMC4wcHg7CiAgICAgICAgaGVpZ2h0OiA1MDAuMHB4OwogICAgICAgIGxlZnQ6IDAuMCU7CiAgICAgICAgdG9wOiAwLjAlOwogICAgICAgIH0KICAgIDwvc3R5bGU+CjwvaGVhZD4KPGJvZHk+ICAgIAogICAgCiAgICA8ZGl2IGNsYXNzPSJmb2xpdW0tbWFwIiBpZD0ibWFwXzAzNjJiYzBhNTg1ZTQwMzVhY2UxNWQyNjFjZThlZTk1IiA+PC9kaXY+CjwvYm9keT4KPHNjcmlwdD4gICAgCiAgICAKICAgIAogICAgICAgIHZhciBib3VuZHMgPSBudWxsOwogICAgCgogICAgdmFyIG1hcF8wMzYyYmMwYTU4NWU0MDM1YWNlMTVkMjYxY2U4ZWU5NSA9IEwubWFwKAogICAgICAgICdtYXBfMDM2MmJjMGE1ODVlNDAzNWFjZTE1ZDI2MWNlOGVlOTUnLCB7CiAgICAgICAgY2VudGVyOiBbMjcuNTA1NzE0ODEzNjE0NjksIDkwLjQ5NzI0NTgyNTI0ODM0XSwKICAgICAgICB6b29tOiAxNywKICAgICAgICBtYXhCb3VuZHM6IGJvdW5kcywKICAgICAgICBsYXllcnM6IFtdLAogICAgICAgIHdvcmxkQ29weUp1bXA6IGZhbHNlLAogICAgICAgIGNyczogTC5DUlMuRVBTRzM4NTcsCiAgICAgICAgem9vbUNvbnRyb2w6IHRydWUsCiAgICAgICAgfSk7CgoKICAgIAogICAgdmFyIHRpbGVfbGF5ZXJfZDU4ODNjNGRjYmFmNDA0OTkzY2YxN2QzNjM2NWM2ZGEgPSBMLnRpbGVMYXllcigKICAgICAgICAnaHR0cHM6Ly9tdC5nb29nbGUuY29tL3Z0L2x5cnM9cyZ4PXt4fSZ5PXt5fSZ6PXt6fScsCiAgICAgICAgewogICAgICAgICJhdHRyaWJ1dGlvbiI6ICJNYXAgRGF0YTogR29vZ2xlIiwKICAgICAgICAiZGV0ZWN0UmV0aW5hIjogZmFsc2UsCiAgICAgICAgIm1heE5hdGl2ZVpvb20iOiAxOCwKICAgICAgICAibWF4Wm9vbSI6IDE4LAogICAgICAgICJtaW5ab29tIjogMCwKICAgICAgICAibm9XcmFwIjogZmFsc2UsCiAgICAgICAgIm9wYWNpdHkiOiAxLAogICAgICAgICJzdWJkb21haW5zIjogImFiYyIsCiAgICAgICAgInRtcyI6IGZhbHNlCn0pLmFkZFRvKG1hcF8wMzYyYmMwYTU4NWU0MDM1YWNlMTVkMjYxY2U4ZWU5NSk7CiAgICAKICAgICAgICB2YXIgZ2VvX2pzb25fNjU3ZTE1ZWU3ZDRjNDE3NDg3MmEyNDRmZDU2ZWY1MmMgPSBMLmdlb0pzb24oCiAgICAgICAgICAgIHsiZmVhdHVyZXMiOiBbeyJnZW9tZXRyeSI6IHsiY29vcmRpbmF0ZXMiOiBbW1s5MC40OTU4MjUsIDI3LjUwNDg0MV0sIFs5MC40OTg2NjQsIDI3LjUwNDg4XSwgWzkwLjQ5ODY2LCAyNy41MDY1NzRdLCBbOTAuNDk1ODU0LCAyNy41MDY1NzFdLCBbOTAuNDk1ODI1LCAyNy41MDQ4NDFdXV0sICJ0eXBlIjogIlBvbHlnb24ifSwgInByb3BlcnRpZXMiOiB7ImhpZ2hsaWdodCI6IHt9LCAic3R5bGUiOiB7ImNvbG9yIjogIiNGRkZGRkYiLCAiZmlsbENvbG9yIjogIiMwMDAwMDAwMCJ9fSwgInR5cGUiOiAiRmVhdHVyZSJ9XSwgInR5cGUiOiAiRmVhdHVyZUNvbGxlY3Rpb24ifSwKICAgICAgICAgICAgewogICAgICAgICAgICB9CiAgICAgICAgKS5hZGRUbyhtYXBfMDM2MmJjMGE1ODVlNDAzNWFjZTE1ZDI2MWNlOGVlOTUgKTsKICAgICAgICBnZW9fanNvbl82NTdlMTVlZTdkNGM0MTc0ODcyYTI0NGZkNTZlZjUyYy5zZXRTdHlsZShmdW5jdGlvbihmZWF0dXJlKSB7cmV0dXJuIGZlYXR1cmUucHJvcGVydGllcy5zdHlsZTt9KTsKICAgICAgICAKICAgIAogICAgICAgICAgICAgICAgdmFyIGxhdF9sbmdfcG9wdXBfOTk2NTA5ZjNjNzhjNGY3NGI0YzhmMzZhNjJiNTNlMjcgPSBMLnBvcHVwKCk7CiAgICAgICAgICAgICAgICBmdW5jdGlvbiBsYXRMbmdQb3AoZSkgewogICAgICAgICAgICAgICAgICAgIGxhdF9sbmdfcG9wdXBfOTk2NTA5ZjNjNzhjNGY3NGI0YzhmMzZhNjJiNTNlMjcKICAgICAgICAgICAgICAgICAgICAgICAgLnNldExhdExuZyhlLmxhdGxuZykKICAgICAgICAgICAgICAgICAgICAgICAgLnNldENvbnRlbnQoIkxhdGl0dWRlOiAiICsgZS5sYXRsbmcubGF0LnRvRml4ZWQoNCkgKwogICAgICAgICAgICAgICAgICAgICAgICAgICAgICAgICAgICAiPGJyPkxvbmdpdHVkZTogIiArIGUubGF0bG5nLmxuZy50b0ZpeGVkKDQpKQogICAgICAgICAgICAgICAgICAgICAgICAub3Blbk9uKG1hcF8wMzYyYmMwYTU4NWU0MDM1YWNlMTVkMjYxY2U4ZWU5NSk7CiAgICAgICAgICAgICAgICAgICAgfQogICAgICAgICAgICAgICAgbWFwXzAzNjJiYzBhNTg1ZTQwMzVhY2UxNWQyNjFjZThlZTk1Lm9uKCdjbGljaycsIGxhdExuZ1BvcCk7CiAgICAgICAgICAgIAo8L3NjcmlwdD4= onload=\"this.contentDocument.open();this.contentDocument.write(atob(this.getAttribute('data-html')));this.contentDocument.close();\" allowfullscreen webkitallowfullscreen mozallowfullscreen></iframe></div></div>"
            ],
            "text/plain": [
              "<folium.folium.Map at 0x7f14e9a5b9e8>"
            ]
          },
          "metadata": {
            "tags": []
          }
        }
      ]
    },
    {
      "cell_type": "markdown",
      "metadata": {
        "id": "bpiOjZwEX4BI",
        "colab_type": "text"
      },
      "source": [
        "### Prepare a Landsat surface reflectance collection"
      ]
    },
    {
      "cell_type": "markdown",
      "metadata": {
        "id": "WKsbAOU5YA8_",
        "colab_type": "text"
      },
      "source": [
        "Edit date window inputs based on NDVI curve plotted previously and set latitude and longitude variables from the map above. "
      ]
    },
    {
      "cell_type": "code",
      "metadata": {
        "id": "Ud1vjM8zHpdo",
        "colab_type": "code",
        "colab": {}
      },
      "source": [
        "# Start and end dates.\n",
        "startDay = 1\n",
        "endDay = 365"
      ],
      "execution_count": 0,
      "outputs": []
    },
    {
      "cell_type": "markdown",
      "metadata": {
        "id": "rOvKDV_A14QM",
        "colab_type": "text"
      },
      "source": [
        "Prepare a Landsat surface reflectance collection 2017-present."
      ]
    },
    {
      "cell_type": "code",
      "metadata": {
        "id": "1DOwu0zt-UcV",
        "colab_type": "code",
        "colab": {}
      },
      "source": [
        "# Make lat and lon an `ee.Geometry.Point` - AOI.\n",
        "point = sn.geometry().centroid()\n",
        "polygon = sn.geometry()\n",
        "#point = ee.Geometry.Point([Longitude, Latitude])\n",
        "\n",
        "# Define function to get and rename bands of interest from OLI.\n",
        "def renameOLI(img):\n",
        "  return(img.select(\n",
        "    ee.List(['B2', 'B3', 'B4', 'B5', 'B6', 'B7', 'pixel_qa']),\n",
        "\t\tee.List(['Blue', 'Green', 'Red', 'NIR', 'SWIR1', 'SWIR2', 'pixel_qa'])))\n",
        "\n",
        "# Define function to get and rename bands of interest from ETM+.\n",
        "def renameETM(img):\n",
        "  return(img.select(\n",
        "\t\tee.List(['B1', 'B2', 'B3', 'B4', 'B5', 'B7', 'pixel_qa']),\n",
        "\t\tee.List(['Blue', 'Green', 'Red', 'NIR', 'SWIR1', 'SWIR2', 'pixel_qa'])))\n",
        "  \n",
        "# Define function to get and rename bands of interest from Sentinnel2\n",
        "def renameS2(img):\n",
        "  return(img.select(\n",
        "\t\tee.List(['B2', 'B3', 'B4', 'B8A', 'B11', 'B12', 'SCL']),\n",
        "\t\tee.List(['Blue', 'Green', 'Red', 'NIR', 'SWIR1', 'SWIR2', 'pixel_qa'])))\n",
        "\n",
        "# Define function to mask out clouds and cloud shadows.\n",
        "def fmask(img):\n",
        "  cloudShadowBitMask = 1 << 3\n",
        "  cloudsBitMask = 1 << 5\n",
        "  qa = img.select('pixel_qa')\n",
        "  mask = qa.bitwiseAnd(cloudShadowBitMask).eq(0)\\\n",
        "    .And(qa.bitwiseAnd(cloudsBitMask).eq(0))\n",
        "  return(img.updateMask(mask))\n",
        "\n",
        "# Define function to mask out clouds and cloud shadows.\n",
        "def sclMask(img):\n",
        "  qa = img.select('pixel_qa')\n",
        "  mask = qa.eq(4)\\\n",
        "    .Or(qa.eq(5))\\\n",
        "    .Or(qa.eq(6))\\\n",
        "    .Or(qa.eq(7))\\\n",
        "    .Or(qa.eq(11))\n",
        "  return(img.updateMask(mask))\n",
        "\n",
        "# Define function to add year.\n",
        "def setYear(img):\n",
        "  year = ee.Image(img).date().get('year')\n",
        "  return(img.set('Year', year))\n",
        "\n",
        "def setMonth(img):\n",
        "  month = ee.Image(img).date().get('month')\n",
        "  return img.set('Month', month)\n",
        "\n",
        "# Define function to calculate NBR.\n",
        "def calcNBR(img):\n",
        "  return(img.normalizedDifference(ee.List(['NIR', 'SWIR2'])).rename('NBR'))\n",
        "\n",
        "# Define function to calculate NDVI.\n",
        "def calcNDVI(img):\n",
        "  return(img.normalizedDifference(ee.List(['NIR', 'Red'])).rename('NDVI'))\n",
        "\n",
        "def calcMSAVI2(img):\n",
        "  nir = img.select('NIR')\n",
        "  red = img.select('Red')\n",
        "\n",
        "  return img.expression(\n",
        "  '(2 * NIR + 1 - sqrt(pow((2 * NIR + 1), 2) - 8 * (NIR - RED)) ) / 2', \n",
        "  {\n",
        "    'NIR': img.select('NIR'), \n",
        "    'RED': img.select('Red')\n",
        "  }\n",
        "  ).rename('MSAVI2')\n",
        "\n",
        "  #return ((2 * nir + 1 - math.sqrt( (2 * nir + 1)**2 - 8 * (nir - red) )) / 2).rename('MSAVI2')\n",
        "\n",
        "# Define function to prepare OLI images.\n",
        "def prepOLI(img):\n",
        "  orig = img\n",
        "  img = renameOLI(img)\n",
        "  img = fmask(img)\n",
        "  #img = calcNBR(img)\n",
        "  #img = calcNDVI(img)\n",
        "  img = calcMSAVI2(img)\n",
        "  img = img.copyProperties(orig, orig.propertyNames())\n",
        "  return(setYear(img))\n",
        "\n",
        "# Define function to prepare ETM+ images.\n",
        "def prepETM(img):\n",
        "  orig = img\n",
        "  img = renameETM(img)\n",
        "  img = fmask(img)\n",
        "  #img = calcNBR(img)\n",
        "  #img = calcNDVI(img)\n",
        "  img = calcMSAVI2(img)\n",
        "  img = img.copyProperties(orig, orig.propertyNames())\n",
        "  return(setYear(img))\n",
        "\n",
        "# Define function to prepare S2 images.\n",
        "def prepS2(img):\n",
        "  orig = img\n",
        "  img = renameS2(img)\n",
        "  img = sclMask(img)\n",
        "  #img = calcNBR(img)\n",
        "  #img = calcNDVI(img)\n",
        "  img = calcMSAVI2(img)\n",
        "  img = img.copyProperties(orig, orig.propertyNames())\n",
        "  return(setYear(img))\n",
        "\n",
        "# get data\n",
        "tmCol = ee.ImageCollection(\"LANDSAT/LT05/C01/T1_SR\")\n",
        "etmCol = ee.ImageCollection(\"LANDSAT/LE07/C01/T1_SR\")\n",
        "oliCol = ee.ImageCollection(\"LANDSAT/LC08/C01/T1_SR\")\n",
        "s2Col = ee.ImageCollection(\"COPERNICUS/S2_SR\")\n",
        "\n",
        "# Filter collections and prepare them for merging.\n",
        "oliCol = oliCol.filterBounds(point).filter(ee.Filter.calendarRange(startDay, endDay, 'day_of_year')).map(prepOLI)\n",
        "etmCol = etmCol.filterBounds(point).filter(ee.Filter.calendarRange(startDay, endDay, 'day_of_year')).map(prepETM)\n",
        "tmCol = tmCol.filterBounds(point).filter(ee.Filter.calendarRange(startDay, endDay, 'day_of_year')).map(prepETM)\n",
        "s2Col = s2Col.filterBounds(point).filter(ee.Filter.calendarRange(startDay, endDay, 'day_of_year')).map(prepS2)\n",
        "\n",
        "\n",
        "# Merge the collections.\n",
        "landsatCol = oliCol \\\n",
        "  .merge(etmCol) \\\n",
        "  .merge(tmCol) \\\n",
        "  .merge(s2Col) \\\n",
        "  .filterDate('2017-01-01', '2020-03-30')\n",
        "\n",
        "# Get distinct year collection.\n",
        "distinctYearMonthCol = landsatCol.distinct('YearMonth')\n",
        "\n",
        "# Define a filter that identifies which images from the complete collection\n",
        "# match the DOY from the distinct DOY collection.\n",
        "joinFilter = ee.Filter.equals(leftField='YearMonth', rightField='YearMonth')\n",
        "\n",
        "# Define a join.\n",
        "join = ee.Join.saveAll('year_month_matches')\n",
        "\n",
        "# Apply the join and convert the resulting FeatureCollection to an\n",
        "# ImageCollection.\n",
        "joinCol = ee.ImageCollection(join.apply(distinctYearMonthCol, landsatCol, joinFilter))\n",
        "\n",
        "# Apply mean reduction among matching year collections.\n",
        "def reduceByJoin(img):\n",
        "  yearCol = ee.ImageCollection.fromImages(ee.Image(img).get('year_month_matches'));\n",
        "  return(yearCol.reduce(ee.Reducer.mean()) \\\n",
        "    .rename('MSAVI2') \\\n",
        "    .set('system:time_start', ee.Image(img).date().update(day=1).millis()))\n",
        "\n",
        "#landsatCol = joinCol.map(reduceByJoin)"
      ],
      "execution_count": 0,
      "outputs": []
    },
    {
      "cell_type": "markdown",
      "metadata": {
        "id": "2pCpfWiUXxri",
        "colab_type": "text"
      },
      "source": [
        "Reduce the region."
      ]
    },
    {
      "cell_type": "code",
      "metadata": {
        "id": "Zx0Vk49_duQM",
        "colab_type": "code",
        "colab": {}
      },
      "source": [
        "# reset global args\n",
        "reReArgs['reducer'] = ee.Reducer.mean()\n",
        "reReArgs['scale'] = 30\n",
        "reReArgs['geometry'] = polygon\n",
        "\n",
        "# Get a list containing a series of lists, one for each property given. \n",
        "pointNDVIList = getReReList(landsatCol, ['Date', 'MSAVI2'])\n",
        "\n",
        "#pointNbrList = getReReList(landsatCol, ['Date', 'NBR'])"
      ],
      "execution_count": 0,
      "outputs": []
    },
    {
      "cell_type": "markdown",
      "metadata": {
        "id": "UHYKBxLZj0-W",
        "colab_type": "text"
      },
      "source": [
        "Transform and tidy the table."
      ]
    },
    {
      "cell_type": "code",
      "metadata": {
        "id": "5tgEyLSrA7tL",
        "colab_type": "code",
        "outputId": "e30b8955-c467-4668-b722-35b59d62e1a9",
        "colab": {
          "base_uri": "https://localhost:8080/",
          "height": 206
        }
      },
      "source": [
        "cols = {'Date': str, 'MSAVI2': float}\n",
        "pointNDVIDf = eeList2Df(pointNDVIList, cols)\n",
        "pointNDVIDf.tail(5)"
      ],
      "execution_count": 182,
      "outputs": [
        {
          "output_type": "execute_result",
          "data": {
            "text/html": [
              "<div>\n",
              "<style scoped>\n",
              "    .dataframe tbody tr th:only-of-type {\n",
              "        vertical-align: middle;\n",
              "    }\n",
              "\n",
              "    .dataframe tbody tr th {\n",
              "        vertical-align: top;\n",
              "    }\n",
              "\n",
              "    .dataframe thead th {\n",
              "        text-align: right;\n",
              "    }\n",
              "</style>\n",
              "<table border=\"1\" class=\"dataframe\">\n",
              "  <thead>\n",
              "    <tr style=\"text-align: right;\">\n",
              "      <th></th>\n",
              "      <th>Date</th>\n",
              "      <th>MSAVI2</th>\n",
              "    </tr>\n",
              "  </thead>\n",
              "  <tbody>\n",
              "    <tr>\n",
              "      <th>224</th>\n",
              "      <td>2020-03-10</td>\n",
              "      <td>0.580526</td>\n",
              "    </tr>\n",
              "    <tr>\n",
              "      <th>225</th>\n",
              "      <td>2020-03-15</td>\n",
              "      <td>0.564045</td>\n",
              "    </tr>\n",
              "    <tr>\n",
              "      <th>226</th>\n",
              "      <td>2020-03-15</td>\n",
              "      <td>0.573339</td>\n",
              "    </tr>\n",
              "    <tr>\n",
              "      <th>227</th>\n",
              "      <td>2020-03-20</td>\n",
              "      <td>0.288790</td>\n",
              "    </tr>\n",
              "    <tr>\n",
              "      <th>228</th>\n",
              "      <td>2020-03-20</td>\n",
              "      <td>0.434820</td>\n",
              "    </tr>\n",
              "  </tbody>\n",
              "</table>\n",
              "</div>"
            ],
            "text/plain": [
              "           Date    MSAVI2\n",
              "224  2020-03-10  0.580526\n",
              "225  2020-03-15  0.564045\n",
              "226  2020-03-15  0.573339\n",
              "227  2020-03-20  0.288790\n",
              "228  2020-03-20  0.434820"
            ]
          },
          "metadata": {
            "tags": []
          },
          "execution_count": 182
        }
      ]
    },
    {
      "cell_type": "markdown",
      "metadata": {
        "id": "OZCj3bwZkOru",
        "colab_type": "text"
      },
      "source": [
        "Display intra-annual reduction a line plot."
      ]
    },
    {
      "cell_type": "code",
      "metadata": {
        "id": "rx8iDh4HEeUl",
        "colab_type": "code",
        "outputId": "4911975d-4ceb-4896-93d8-5631c4d00d83",
        "colab": {
          "base_uri": "https://localhost:8080/",
          "height": 368
        }
      },
      "source": [
        "alt.Chart(pointNDVIDf).mark_line().encode(\n",
        "  x='Date:T',\n",
        "  y='MSAVI2:Q',\n",
        "  tooltip=[\n",
        "    alt.Tooltip('Date:T', title='Date'),\n",
        "    alt.Tooltip('NDVI:Q', title='MSAVI2') \n",
        "  ]\n",
        ").interactive().properties(width=700, height=300)"
      ],
      "execution_count": 183,
      "outputs": [
        {
          "output_type": "execute_result",
          "data": {
            "text/plain": [
              "alt.Chart(...)"
            ],
            "text/html": [
              "\n",
              "<div id=\"altair-viz-efb31146a512426eb7d9f1991b77fce2\"></div>\n",
              "<script type=\"text/javascript\">\n",
              "  (function(spec, embedOpt){\n",
              "    const outputDiv = document.getElementById(\"altair-viz-efb31146a512426eb7d9f1991b77fce2\");\n",
              "    const paths = {\n",
              "      \"vega\": \"https://cdn.jsdelivr.net/npm//vega@5?noext\",\n",
              "      \"vega-lib\": \"https://cdn.jsdelivr.net/npm//vega-lib?noext\",\n",
              "      \"vega-lite\": \"https://cdn.jsdelivr.net/npm//vega-lite@4.0.2?noext\",\n",
              "      \"vega-embed\": \"https://cdn.jsdelivr.net/npm//vega-embed@6?noext\",\n",
              "    };\n",
              "\n",
              "    function loadScript(lib) {\n",
              "      return new Promise(function(resolve, reject) {\n",
              "        var s = document.createElement('script');\n",
              "        s.src = paths[lib];\n",
              "        s.async = true;\n",
              "        s.onload = () => resolve(paths[lib]);\n",
              "        s.onerror = () => reject(`Error loading script: ${paths[lib]}`);\n",
              "        document.getElementsByTagName(\"head\")[0].appendChild(s);\n",
              "      });\n",
              "    }\n",
              "\n",
              "    function showError(err) {\n",
              "      outputDiv.innerHTML = `<div class=\"error\" style=\"color:red;\">${err}</div>`;\n",
              "      throw err;\n",
              "    }\n",
              "\n",
              "    function displayChart(vegaEmbed) {\n",
              "      vegaEmbed(outputDiv, spec, embedOpt)\n",
              "        .catch(err => showError(`Javascript Error: ${err.message}<br>This usually means there's a typo in your chart specification. See the javascript console for the full traceback.`));\n",
              "    }\n",
              "\n",
              "    if(typeof define === \"function\" && define.amd) {\n",
              "      requirejs.config({paths});\n",
              "      require([\"vega-embed\"], displayChart, err => showError(`Error loading script: ${err.message}`));\n",
              "    } else if (typeof vegaEmbed === \"function\") {\n",
              "      displayChart(vegaEmbed);\n",
              "    } else {\n",
              "      loadScript(\"vega\")\n",
              "        .then(() => loadScript(\"vega-lite\"))\n",
              "        .then(() => loadScript(\"vega-embed\"))\n",
              "        .catch(showError)\n",
              "        .then(() => displayChart(vegaEmbed));\n",
              "    }\n",
              "  })({\"config\": {\"view\": {\"continuousWidth\": 400, \"continuousHeight\": 300}}, \"data\": {\"name\": \"data-aee27ee672ee09588979d39ab9ae1ca9\"}, \"mark\": \"line\", \"encoding\": {\"tooltip\": [{\"type\": \"temporal\", \"field\": \"Date\", \"title\": \"Date\"}, {\"type\": \"quantitative\", \"field\": \"NDVI\", \"title\": \"MSAVI2\"}], \"x\": {\"type\": \"temporal\", \"field\": \"Date\"}, \"y\": {\"type\": \"quantitative\", \"field\": \"MSAVI2\"}}, \"height\": 300, \"selection\": {\"selector030\": {\"type\": \"interval\", \"bind\": \"scales\", \"encodings\": [\"x\", \"y\"]}}, \"width\": 700, \"$schema\": \"https://vega.github.io/schema/vega-lite/v4.0.2.json\", \"datasets\": {\"data-aee27ee672ee09588979d39ab9ae1ca9\": [{\"Date\": \"2017-01-08\", \"MSAVI2\": 0.6436656911433384}, {\"Date\": \"2017-01-24\", \"MSAVI2\": 0.5995952245433082}, {\"Date\": \"2017-02-09\", \"MSAVI2\": 0.5817752505019841}, {\"Date\": \"2017-02-25\", \"MSAVI2\": 0.5780385811659898}, {\"Date\": \"2017-03-13\", \"MSAVI2\": 0.5921285987173155}, {\"Date\": \"2017-04-14\", \"MSAVI2\": 0.6904070897978816}, {\"Date\": \"2017-04-30\", \"MSAVI2\": 0.7968380011707371}, {\"Date\": \"2017-10-07\", \"MSAVI2\": 0.8868821034932783}, {\"Date\": \"2017-11-08\", \"MSAVI2\": 0.8521655616179395}, {\"Date\": \"2017-11-24\", \"MSAVI2\": 0.798066137613114}, {\"Date\": \"2017-12-10\", \"MSAVI2\": 0.7746984918681599}, {\"Date\": \"2017-12-26\", \"MSAVI2\": 0.7168807561522661}, {\"Date\": \"2018-01-11\", \"MSAVI2\": 0.6584229931472108}, {\"Date\": \"2018-01-27\", \"MSAVI2\": 0.6249815383760214}, {\"Date\": \"2018-02-12\", \"MSAVI2\": 0.5935442484153743}, {\"Date\": \"2018-02-28\", \"MSAVI2\": 0.5952679879640708}, {\"Date\": \"2018-03-16\", \"MSAVI2\": 0.8112684718770277}, {\"Date\": \"2018-04-01\", \"MSAVI2\": 0.6710623746183497}, {\"Date\": \"2018-05-03\", \"MSAVI2\": 0.843337383189438}, {\"Date\": \"2018-05-19\", \"MSAVI2\": 0.8647457147424222}, {\"Date\": \"2018-06-04\", \"MSAVI2\": 0.8876890140066773}, {\"Date\": \"2018-06-20\", \"MSAVI2\": 0.7940972660076954}, {\"Date\": \"2018-10-10\", \"MSAVI2\": 0.8694309178343941}, {\"Date\": \"2018-10-26\", \"MSAVI2\": 0.8502027140724806}, {\"Date\": \"2018-11-11\", \"MSAVI2\": 0.7981963091644458}, {\"Date\": \"2018-11-27\", \"MSAVI2\": 0.7587638808645807}, {\"Date\": \"2018-12-13\", \"MSAVI2\": 0.7116379060486324}, {\"Date\": \"2018-12-29\", \"MSAVI2\": 0.6711779463506395}, {\"Date\": \"2019-01-14\", \"MSAVI2\": 0.6160534227968529}, {\"Date\": \"2019-01-30\", \"MSAVI2\": 0.5807540153638004}, {\"Date\": \"2019-02-15\", \"MSAVI2\": 0.5822260362299684}, {\"Date\": \"2019-03-19\", \"MSAVI2\": 0.6198984386968319}, {\"Date\": \"2019-04-20\", \"MSAVI2\": 0.783879863369598}, {\"Date\": \"2019-05-06\", \"MSAVI2\": 0.8454805845315827}, {\"Date\": \"2019-05-22\", \"MSAVI2\": 0.8590081913998049}, {\"Date\": \"2019-06-07\", \"MSAVI2\": 0.7731729780515713}, {\"Date\": \"2019-06-23\", \"MSAVI2\": 0.8089718400632043}, {\"Date\": \"2019-08-26\", \"MSAVI2\": 0.9000218816859101}, {\"Date\": \"2019-09-27\", \"MSAVI2\": 0.8758750838392427}, {\"Date\": \"2019-10-13\", \"MSAVI2\": 0.8734299385568146}, {\"Date\": \"2019-11-14\", \"MSAVI2\": 0.833473991142799}, {\"Date\": \"2019-11-30\", \"MSAVI2\": 0.7915502204140447}, {\"Date\": \"2019-12-16\", \"MSAVI2\": 0.7384107619445182}, {\"Date\": \"2020-01-17\", \"MSAVI2\": 0.64159496533614}, {\"Date\": \"2020-02-02\", \"MSAVI2\": 0.6097213691529657}, {\"Date\": \"2020-02-18\", \"MSAVI2\": 0.5881655510925287}, {\"Date\": \"2020-03-05\", \"MSAVI2\": 0.6215908602306524}, {\"Date\": \"2017-01-16\", \"MSAVI2\": 0.5673302374614086}, {\"Date\": \"2017-02-01\", \"MSAVI2\": 0.5350088028956624}, {\"Date\": \"2017-02-17\", \"MSAVI2\": 0.5088412888438247}, {\"Date\": \"2017-03-05\", \"MSAVI2\": 0.5173366911518665}, {\"Date\": \"2017-03-21\", \"MSAVI2\": 0.5018519956252282}, {\"Date\": \"2017-05-24\", \"MSAVI2\": 0.8539893222328114}, {\"Date\": \"2017-06-25\", \"MSAVI2\": 0.877464503808221}, {\"Date\": \"2017-08-28\", \"MSAVI2\": 0.6707338521620396}, {\"Date\": \"2017-09-13\", \"MSAVI2\": 0.8851109731724355}, {\"Date\": \"2017-10-15\", \"MSAVI2\": 0.8760680682645909}, {\"Date\": \"2017-10-31\", \"MSAVI2\": 0.8447780369379269}, {\"Date\": \"2017-11-16\", \"MSAVI2\": 0.5519334237961289}, {\"Date\": \"2017-12-02\", \"MSAVI2\": 0.7647632919649274}, {\"Date\": \"2017-12-18\", \"MSAVI2\": 0.6990827618411037}, {\"Date\": \"2018-01-03\", \"MSAVI2\": 0.602628737044983}, {\"Date\": \"2018-01-19\", \"MSAVI2\": 0.5760198499277581}, {\"Date\": \"2018-02-04\", \"MSAVI2\": 0.5467230188317534}, {\"Date\": \"2018-02-20\", \"MSAVI2\": 0.5382530648618004}, {\"Date\": \"2018-03-08\", \"MSAVI2\": 0.5687871505453078}, {\"Date\": \"2018-04-25\", \"MSAVI2\": 0.7046517575366522}, {\"Date\": \"2018-05-11\", \"MSAVI2\": 0.6702100277121367}, {\"Date\": \"2018-08-15\", \"MSAVI2\": 0.8878376098994424}, {\"Date\": \"2018-08-31\", \"MSAVI2\": 0.8904251958768312}, {\"Date\": \"2018-09-16\", \"MSAVI2\": 0.886928734334}, {\"Date\": \"2018-10-02\", \"MSAVI2\": 0.8500446729016385}, {\"Date\": \"2018-10-18\", \"MSAVI2\": 0.7449047367856684}, {\"Date\": \"2018-11-03\", \"MSAVI2\": 0.7972072114230102}, {\"Date\": \"2018-11-19\", \"MSAVI2\": 0.7746585391427991}, {\"Date\": \"2018-12-05\", \"MSAVI2\": 0.626825281329294}, {\"Date\": \"2018-12-21\", \"MSAVI2\": 0.6489766421570459}, {\"Date\": \"2019-01-06\", \"MSAVI2\": 0.5928466766440319}, {\"Date\": \"2019-02-07\", \"MSAVI2\": 0.5155789926872687}, {\"Date\": \"2019-02-23\", \"MSAVI2\": 0.2951337249698939}, {\"Date\": \"2019-03-11\", \"MSAVI2\": 0.5235558897938005}, {\"Date\": \"2019-04-12\", \"MSAVI2\": 0.710759842000447}, {\"Date\": \"2019-05-14\", \"MSAVI2\": 0.8427673884797054}, {\"Date\": \"2019-07-01\", \"MSAVI2\": 0.88170693613511}, {\"Date\": \"2019-07-17\", \"MSAVI2\": 0.8187244285646356}, {\"Date\": \"2019-08-18\", \"MSAVI2\": 0.6266489982965844}, {\"Date\": \"2019-11-06\", \"MSAVI2\": 0.831679016039444}, {\"Date\": \"2019-11-22\", \"MSAVI2\": 0.7933544969256059}, {\"Date\": \"2019-12-08\", \"MSAVI2\": 0.733729443196926}, {\"Date\": \"2019-12-24\", \"MSAVI2\": 0.6624647647499042}, {\"Date\": \"2020-01-09\", \"MSAVI2\": 0.36207884399286117}, {\"Date\": \"2020-01-25\", \"MSAVI2\": 0.5395931662869321}, {\"Date\": \"2020-02-10\", \"MSAVI2\": 0.555880671578677}, {\"Date\": \"2018-12-16\", \"MSAVI2\": 0.6842627730173207}, {\"Date\": \"2018-12-16\", \"MSAVI2\": 0.6847195512853779}, {\"Date\": \"2018-12-21\", \"MSAVI2\": 0.6672954397855806}, {\"Date\": \"2018-12-21\", \"MSAVI2\": 0.6692701110995813}, {\"Date\": \"2018-12-26\", \"MSAVI2\": 0.6557457401840393}, {\"Date\": \"2018-12-26\", \"MSAVI2\": 0.6539254343110315}, {\"Date\": \"2018-12-31\", \"MSAVI2\": 0.6228541630635932}, {\"Date\": \"2018-12-31\", \"MSAVI2\": 0.6248884159550498}, {\"Date\": \"2019-01-05\", \"MSAVI2\": 0.6179798971384771}, {\"Date\": \"2019-01-05\", \"MSAVI2\": 0.6185687599345028}, {\"Date\": \"2019-01-10\", \"MSAVI2\": 0.6058392545358541}, {\"Date\": \"2019-01-10\", \"MSAVI2\": 0.5975008485340967}, {\"Date\": \"2019-01-15\", \"MSAVI2\": 0.5902107068922502}, {\"Date\": \"2019-01-15\", \"MSAVI2\": 0.5818907615300829}, {\"Date\": \"2019-01-20\", \"MSAVI2\": 0.5728218418651024}, {\"Date\": \"2019-01-20\", \"MSAVI2\": 0.5692506253845934}, {\"Date\": \"2019-01-30\", \"MSAVI2\": 0.5402111054772756}, {\"Date\": \"2019-01-30\", \"MSAVI2\": 0.5414432710270016}, {\"Date\": \"2019-02-04\", \"MSAVI2\": 0.5680956463871562}, {\"Date\": \"2019-02-04\", \"MSAVI2\": 0.5624686029471102}, {\"Date\": \"2019-02-14\", \"MSAVI2\": 0.5236991965651377}, {\"Date\": \"2019-02-14\", \"MSAVI2\": 0.5743755698641789}, {\"Date\": \"2019-02-24\", \"MSAVI2\": 0.5610382746041157}, {\"Date\": \"2019-02-24\", \"MSAVI2\": 0.5639136060355857}, {\"Date\": \"2019-03-01\", \"MSAVI2\": 0.5791575023299563}, {\"Date\": \"2019-03-01\", \"MSAVI2\": 0.5807851792279847}, {\"Date\": \"2019-03-06\", \"MSAVI2\": 0.5692784411978509}, {\"Date\": \"2019-03-06\", \"MSAVI2\": 0.5760787133791738}, {\"Date\": \"2019-03-11\", \"MSAVI2\": 0.542539924309849}, {\"Date\": \"2019-03-11\", \"MSAVI2\": 0.5461835238485727}, {\"Date\": \"2019-03-16\", \"MSAVI2\": 0.5955998695631719}, {\"Date\": \"2019-03-16\", \"MSAVI2\": 0.5981239165792345}, {\"Date\": \"2019-03-21\", \"MSAVI2\": 0.4961092072780512}, {\"Date\": \"2019-03-21\", \"MSAVI2\": 0.5334163171059993}, {\"Date\": \"2019-04-10\", \"MSAVI2\": 0.7270136437335514}, {\"Date\": \"2019-04-10\", \"MSAVI2\": 0.7326091756916193}, {\"Date\": \"2019-04-15\", \"MSAVI2\": 0.3474093597742467}, {\"Date\": \"2019-04-15\", \"MSAVI2\": 0.4188104327804467}, {\"Date\": \"2019-04-20\", \"MSAVI2\": 0.7706739545244904}, {\"Date\": \"2019-04-20\", \"MSAVI2\": 0.7769403309081573}, {\"Date\": \"2019-04-25\", \"MSAVI2\": 0.8010785377047906}, {\"Date\": \"2019-04-25\", \"MSAVI2\": 0.7919023801946061}, {\"Date\": \"2019-04-30\", \"MSAVI2\": 0.7594454350591924}, {\"Date\": \"2019-04-30\", \"MSAVI2\": 0.728834624611824}, {\"Date\": \"2019-05-05\", \"MSAVI2\": 0.8445762289010621}, {\"Date\": \"2019-05-05\", \"MSAVI2\": 0.8283727595565388}, {\"Date\": \"2019-05-10\", \"MSAVI2\": 0.773968722606826}, {\"Date\": \"2019-05-10\", \"MSAVI2\": 0.779786639698214}, {\"Date\": \"2019-05-15\", \"MSAVI2\": 0.7168176253086762}, {\"Date\": \"2019-05-15\", \"MSAVI2\": 0.7351081729418508}, {\"Date\": \"2019-05-20\", \"MSAVI2\": 0.855831201844241}, {\"Date\": \"2019-05-20\", \"MSAVI2\": 0.8514092152995313}, {\"Date\": \"2019-06-04\", \"MSAVI2\": 0.8627672945031172}, {\"Date\": \"2019-06-04\", \"MSAVI2\": 0.8624912996946797}, {\"Date\": \"2019-06-14\", \"MSAVI2\": 0.8769884453722292}, {\"Date\": \"2019-06-14\", \"MSAVI2\": 0.8741117942904657}, {\"Date\": \"2019-06-29\", \"MSAVI2\": 0.6062886532983294}, {\"Date\": \"2019-06-29\", \"MSAVI2\": 0.5956407544813981}, {\"Date\": \"2019-07-19\", \"MSAVI2\": 0.7060883855672248}, {\"Date\": \"2019-07-19\", \"MSAVI2\": 0.7307411947467914}, {\"Date\": \"2019-07-29\", \"MSAVI2\": 0.7397372942737571}, {\"Date\": \"2019-07-29\", \"MSAVI2\": 0.7520836708832226}, {\"Date\": \"2019-08-03\", \"MSAVI2\": 0.8108983414348591}, {\"Date\": \"2019-08-03\", \"MSAVI2\": 0.8190167495050173}, {\"Date\": \"2019-08-13\", \"MSAVI2\": 0.6200822471054301}, {\"Date\": \"2019-08-13\", \"MSAVI2\": 0.4271036480852777}, {\"Date\": \"2019-08-28\", \"MSAVI2\": 0.3471359289551401}, {\"Date\": \"2019-08-28\", \"MSAVI2\": 0.3738384942853372}, {\"Date\": \"2019-09-02\", \"MSAVI2\": 0.8925279258691843}, {\"Date\": \"2019-09-02\", \"MSAVI2\": 0.8930300207160669}, {\"Date\": \"2019-09-07\", \"MSAVI2\": 0.8151510125511772}, {\"Date\": \"2019-09-07\", \"MSAVI2\": 0.8118605751797414}, {\"Date\": \"2019-10-02\", \"MSAVI2\": 0.8748383873307315}, {\"Date\": \"2019-10-02\", \"MSAVI2\": 0.8843393760262561}, {\"Date\": \"2019-10-07\", \"MSAVI2\": 0.6475974288616099}, {\"Date\": \"2019-10-07\", \"MSAVI2\": 0.6466914893854334}, {\"Date\": \"2019-10-12\", \"MSAVI2\": 0.8763404800047546}, {\"Date\": \"2019-10-12\", \"MSAVI2\": 0.8640644621335634}, {\"Date\": \"2019-10-17\", \"MSAVI2\": 0.8735960524295682}, {\"Date\": \"2019-10-17\", \"MSAVI2\": 0.8729835582230095}, {\"Date\": \"2019-10-22\", \"MSAVI2\": 0.8750882045361893}, {\"Date\": \"2019-10-22\", \"MSAVI2\": 0.8695524473845495}, {\"Date\": \"2019-11-01\", \"MSAVI2\": 0.852320896824402}, {\"Date\": \"2019-11-01\", \"MSAVI2\": 0.854094423897722}, {\"Date\": \"2019-11-06\", \"MSAVI2\": 0.8449771585747288}, {\"Date\": \"2019-11-06\", \"MSAVI2\": 0.8418669093952308}, {\"Date\": \"2019-11-11\", \"MSAVI2\": 0.840454901182367}, {\"Date\": \"2019-11-11\", \"MSAVI2\": 0.8412447890486152}, {\"Date\": \"2019-11-16\", \"MSAVI2\": 0.8267651480430769}, {\"Date\": \"2019-11-16\", \"MSAVI2\": 0.8256740219816912}, {\"Date\": \"2019-11-21\", \"MSAVI2\": 0.8028726309048838}, {\"Date\": \"2019-11-21\", \"MSAVI2\": 0.7875953148517247}, {\"Date\": \"2019-12-01\", \"MSAVI2\": 0.7834367060669978}, {\"Date\": \"2019-12-01\", \"MSAVI2\": 0.7674858173753532}, {\"Date\": \"2019-12-06\", \"MSAVI2\": 0.7659558103295537}, {\"Date\": \"2019-12-06\", \"MSAVI2\": 0.7678325121986865}, {\"Date\": \"2019-12-11\", \"MSAVI2\": 0.625165275621612}, {\"Date\": \"2019-12-11\", \"MSAVI2\": 0.6286865461541379}, {\"Date\": \"2019-12-16\", \"MSAVI2\": 0.7289627129782905}, {\"Date\": \"2019-12-16\", \"MSAVI2\": 0.7296327623721773}, {\"Date\": \"2019-12-21\", \"MSAVI2\": 0.7070732070039922}, {\"Date\": \"2019-12-21\", \"MSAVI2\": 0.702931719841608}, {\"Date\": \"2019-12-26\", \"MSAVI2\": 0.7157812732334573}, {\"Date\": \"2019-12-26\", \"MSAVI2\": 0.7148601776752669}, {\"Date\": \"2019-12-31\", \"MSAVI2\": 0.6554310202678719}, {\"Date\": \"2019-12-31\", \"MSAVI2\": 0.6571160612390444}, {\"Date\": \"2020-01-05\", \"MSAVI2\": 0.6626262634502196}, {\"Date\": \"2020-01-05\", \"MSAVI2\": 0.6652262004064834}, {\"Date\": \"2020-01-10\", \"MSAVI2\": 0.6240586999629822}, {\"Date\": \"2020-01-10\", \"MSAVI2\": 0.6212075159956757}, {\"Date\": \"2020-01-15\", \"MSAVI2\": 0.612494692887554}, {\"Date\": \"2020-01-15\", \"MSAVI2\": 0.6132027134704472}, {\"Date\": \"2020-01-20\", \"MSAVI2\": 0.6288203331340935}, {\"Date\": \"2020-01-20\", \"MSAVI2\": 0.625933752048233}, {\"Date\": \"2020-01-25\", \"MSAVI2\": 0.6068751229774657}, {\"Date\": \"2020-01-25\", \"MSAVI2\": 0.6047229757883129}, {\"Date\": \"2020-01-30\", \"MSAVI2\": 0.4766847567640048}, {\"Date\": \"2020-01-30\", \"MSAVI2\": 0.4689032654471533}, {\"Date\": \"2020-02-04\", \"MSAVI2\": 0.5841794670314197}, {\"Date\": \"2020-02-04\", \"MSAVI2\": 0.5781615472084771}, {\"Date\": \"2020-02-09\", \"MSAVI2\": 0.5630117291283266}, {\"Date\": \"2020-02-09\", \"MSAVI2\": 0.5547644540878091}, {\"Date\": \"2020-02-14\", \"MSAVI2\": 0.5633548031831707}, {\"Date\": \"2020-02-14\", \"MSAVI2\": 0.5582098322906366}, {\"Date\": \"2020-02-19\", \"MSAVI2\": 0.5152308094034734}, {\"Date\": \"2020-02-19\", \"MSAVI2\": 0.48533141682449066}, {\"Date\": \"2020-02-29\", \"MSAVI2\": 0.5822865561906894}, {\"Date\": \"2020-02-29\", \"MSAVI2\": 0.5838596057667373}, {\"Date\": \"2020-03-05\", \"MSAVI2\": 0.584787297523724}, {\"Date\": \"2020-03-05\", \"MSAVI2\": 0.5815847993181914}, {\"Date\": \"2020-03-10\", \"MSAVI2\": 0.5852496292613197}, {\"Date\": \"2020-03-10\", \"MSAVI2\": 0.5805260545235995}, {\"Date\": \"2020-03-15\", \"MSAVI2\": 0.5640445772052577}, {\"Date\": \"2020-03-15\", \"MSAVI2\": 0.5733394924975797}, {\"Date\": \"2020-03-20\", \"MSAVI2\": 0.2887899851921229}, {\"Date\": \"2020-03-20\", \"MSAVI2\": 0.4348203398464049}]}}, {\"mode\": \"vega-lite\"});\n",
              "</script>"
            ]
          },
          "metadata": {
            "tags": []
          },
          "execution_count": 183
        }
      ]
    }
  ]
}